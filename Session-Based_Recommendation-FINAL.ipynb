{
 "cells": [
  {
   "cell_type": "code",
   "execution_count": 1,
   "metadata": {},
   "outputs": [
    {
     "data": {
      "text/plain": [
       "[PhysicalDevice(name='/physical_device:GPU:0', device_type='GPU')]"
      ]
     },
     "execution_count": 1,
     "metadata": {},
     "output_type": "execute_result"
    }
   ],
   "source": [
    "import tensorflow as tf\n",
    "tf.config.list_physical_devices('GPU')"
   ]
  },
  {
   "cell_type": "code",
   "execution_count": 2,
   "metadata": {},
   "outputs": [],
   "source": [
    "import datetime as dt\n",
    "from pathlib import Path\n",
    "import os\n",
    "import matplotlib.pyplot as plt\n",
    "import numpy as np\n",
    "import pandas as pd\n",
    "import warnings\n",
    "warnings.filterwarnings('ignore')\n",
    "\n",
    "from tensorflow.keras.layers import Input, Dense, Dropout, GRU\n",
    "from tensorflow.keras.losses import categorical_crossentropy\n",
    "from tensorflow.keras.models import Model\n",
    "from tensorflow.keras.optimizers import Adam\n",
    "from tensorflow.keras.utils import to_categorical\n",
    "from tqdm import tqdm"
   ]
  },
  {
   "cell_type": "code",
   "execution_count": 3,
   "metadata": {},
   "outputs": [
    {
     "data": {
      "text/html": [
       "<div>\n",
       "<style scoped>\n",
       "    .dataframe tbody tr th:only-of-type {\n",
       "        vertical-align: middle;\n",
       "    }\n",
       "\n",
       "    .dataframe tbody tr th {\n",
       "        vertical-align: top;\n",
       "    }\n",
       "\n",
       "    .dataframe thead th {\n",
       "        text-align: right;\n",
       "    }\n",
       "</style>\n",
       "<table border=\"1\" class=\"dataframe\">\n",
       "  <thead>\n",
       "    <tr style=\"text-align: right;\">\n",
       "      <th></th>\n",
       "      <th>UserId</th>\n",
       "      <th>ItemId</th>\n",
       "      <th>Rating</th>\n",
       "      <th>Time</th>\n",
       "    </tr>\n",
       "  </thead>\n",
       "  <tbody>\n",
       "    <tr>\n",
       "      <th>31</th>\n",
       "      <td>1</td>\n",
       "      <td>3186</td>\n",
       "      <td>4</td>\n",
       "      <td>978300019</td>\n",
       "    </tr>\n",
       "    <tr>\n",
       "      <th>22</th>\n",
       "      <td>1</td>\n",
       "      <td>1270</td>\n",
       "      <td>5</td>\n",
       "      <td>978300055</td>\n",
       "    </tr>\n",
       "    <tr>\n",
       "      <th>27</th>\n",
       "      <td>1</td>\n",
       "      <td>1721</td>\n",
       "      <td>4</td>\n",
       "      <td>978300055</td>\n",
       "    </tr>\n",
       "    <tr>\n",
       "      <th>37</th>\n",
       "      <td>1</td>\n",
       "      <td>1022</td>\n",
       "      <td>5</td>\n",
       "      <td>978300055</td>\n",
       "    </tr>\n",
       "    <tr>\n",
       "      <th>24</th>\n",
       "      <td>1</td>\n",
       "      <td>2340</td>\n",
       "      <td>3</td>\n",
       "      <td>978300103</td>\n",
       "    </tr>\n",
       "    <tr>\n",
       "      <th>...</th>\n",
       "      <td>...</td>\n",
       "      <td>...</td>\n",
       "      <td>...</td>\n",
       "      <td>...</td>\n",
       "    </tr>\n",
       "    <tr>\n",
       "      <th>1000019</th>\n",
       "      <td>6040</td>\n",
       "      <td>2917</td>\n",
       "      <td>4</td>\n",
       "      <td>997454429</td>\n",
       "    </tr>\n",
       "    <tr>\n",
       "      <th>999988</th>\n",
       "      <td>6040</td>\n",
       "      <td>1921</td>\n",
       "      <td>4</td>\n",
       "      <td>997454464</td>\n",
       "    </tr>\n",
       "    <tr>\n",
       "      <th>1000172</th>\n",
       "      <td>6040</td>\n",
       "      <td>1784</td>\n",
       "      <td>3</td>\n",
       "      <td>997454464</td>\n",
       "    </tr>\n",
       "    <tr>\n",
       "      <th>1000167</th>\n",
       "      <td>6040</td>\n",
       "      <td>161</td>\n",
       "      <td>3</td>\n",
       "      <td>997454486</td>\n",
       "    </tr>\n",
       "    <tr>\n",
       "      <th>1000042</th>\n",
       "      <td>6040</td>\n",
       "      <td>1221</td>\n",
       "      <td>4</td>\n",
       "      <td>998315055</td>\n",
       "    </tr>\n",
       "  </tbody>\n",
       "</table>\n",
       "<p>1000209 rows × 4 columns</p>\n",
       "</div>"
      ],
      "text/plain": [
       "         UserId  ItemId  Rating       Time\n",
       "31            1    3186       4  978300019\n",
       "22            1    1270       5  978300055\n",
       "27            1    1721       4  978300055\n",
       "37            1    1022       5  978300055\n",
       "24            1    2340       3  978300103\n",
       "...         ...     ...     ...        ...\n",
       "1000019    6040    2917       4  997454429\n",
       "999988     6040    1921       4  997454464\n",
       "1000172    6040    1784       3  997454464\n",
       "1000167    6040     161       3  997454486\n",
       "1000042    6040    1221       4  998315055\n",
       "\n",
       "[1000209 rows x 4 columns]"
      ]
     },
     "execution_count": 3,
     "metadata": {},
     "output_type": "execute_result"
    }
   ],
   "source": [
    "data_path = Path(os.getenv('HOME')+'/aiffel/yoochoose-data/ml-1m') \n",
    "train_path = data_path / 'ratings.dat'\n",
    "\n",
    "def load_data(data_path: Path, nrows=None):\n",
    "    data = pd.read_csv(data_path, sep='::', header=None, usecols=[0, 1, 2, 3], dtype={0: np.int32, 1: np.int32, 2: np.int32}, nrows=nrows)\n",
    "    data.columns = ['UserId', 'ItemId', 'Rating', 'Time']\n",
    "    return data\n",
    "\n",
    "data = load_data(train_path, None)\n",
    "data.sort_values(['UserId', 'Time'], inplace=True)  # data를 id와 시간 순서로 정렬해줍니다.\n",
    "data"
   ]
  },
  {
   "cell_type": "markdown",
   "metadata": {},
   "source": [
    "# Data Preprocessing"
   ]
  },
  {
   "cell_type": "code",
   "execution_count": 4,
   "metadata": {},
   "outputs": [
    {
     "data": {
      "text/html": [
       "<div>\n",
       "<style scoped>\n",
       "    .dataframe tbody tr th:only-of-type {\n",
       "        vertical-align: middle;\n",
       "    }\n",
       "\n",
       "    .dataframe tbody tr th {\n",
       "        vertical-align: top;\n",
       "    }\n",
       "\n",
       "    .dataframe thead th {\n",
       "        text-align: right;\n",
       "    }\n",
       "</style>\n",
       "<table border=\"1\" class=\"dataframe\">\n",
       "  <thead>\n",
       "    <tr style=\"text-align: right;\">\n",
       "      <th></th>\n",
       "      <th>UserId</th>\n",
       "      <th>ItemId</th>\n",
       "      <th>Rating</th>\n",
       "      <th>Time</th>\n",
       "    </tr>\n",
       "  </thead>\n",
       "  <tbody>\n",
       "    <tr>\n",
       "      <th>1000019</th>\n",
       "      <td>6040</td>\n",
       "      <td>2917</td>\n",
       "      <td>4</td>\n",
       "      <td>997454429</td>\n",
       "    </tr>\n",
       "    <tr>\n",
       "      <th>999988</th>\n",
       "      <td>6040</td>\n",
       "      <td>1921</td>\n",
       "      <td>4</td>\n",
       "      <td>997454464</td>\n",
       "    </tr>\n",
       "    <tr>\n",
       "      <th>1000172</th>\n",
       "      <td>6040</td>\n",
       "      <td>1784</td>\n",
       "      <td>3</td>\n",
       "      <td>997454464</td>\n",
       "    </tr>\n",
       "    <tr>\n",
       "      <th>1000167</th>\n",
       "      <td>6040</td>\n",
       "      <td>161</td>\n",
       "      <td>3</td>\n",
       "      <td>997454486</td>\n",
       "    </tr>\n",
       "    <tr>\n",
       "      <th>1000042</th>\n",
       "      <td>6040</td>\n",
       "      <td>1221</td>\n",
       "      <td>4</td>\n",
       "      <td>998315055</td>\n",
       "    </tr>\n",
       "  </tbody>\n",
       "</table>\n",
       "</div>"
      ],
      "text/plain": [
       "         UserId  ItemId  Rating       Time\n",
       "1000019    6040    2917       4  997454429\n",
       "999988     6040    1921       4  997454464\n",
       "1000172    6040    1784       3  997454464\n",
       "1000167    6040     161       3  997454486\n",
       "1000042    6040    1221       4  998315055"
      ]
     },
     "execution_count": 4,
     "metadata": {},
     "output_type": "execute_result"
    }
   ],
   "source": [
    "# 998315055\n",
    "data = data.sort_values(['UserId', 'Time'])\n",
    "data.tail()"
   ]
  },
  {
   "cell_type": "code",
   "execution_count": 5,
   "metadata": {},
   "outputs": [],
   "source": [
    "# 평점이 3 이상인 데이터들에 대해서만 체크 (추천 모델이기 때문에)\n",
    "data = data[data['Rating'] >= 3]"
   ]
  },
  {
   "cell_type": "code",
   "execution_count": 6,
   "metadata": {},
   "outputs": [
    {
     "data": {
      "text/html": [
       "<div>\n",
       "<style scoped>\n",
       "    .dataframe tbody tr th:only-of-type {\n",
       "        vertical-align: middle;\n",
       "    }\n",
       "\n",
       "    .dataframe tbody tr th {\n",
       "        vertical-align: top;\n",
       "    }\n",
       "\n",
       "    .dataframe thead th {\n",
       "        text-align: right;\n",
       "    }\n",
       "</style>\n",
       "<table border=\"1\" class=\"dataframe\">\n",
       "  <thead>\n",
       "    <tr style=\"text-align: right;\">\n",
       "      <th></th>\n",
       "      <th>UserId</th>\n",
       "      <th>ItemId</th>\n",
       "      <th>Rating</th>\n",
       "      <th>Time</th>\n",
       "      <th>SessionId</th>\n",
       "    </tr>\n",
       "  </thead>\n",
       "  <tbody>\n",
       "    <tr>\n",
       "      <th>674802</th>\n",
       "      <td>4049</td>\n",
       "      <td>1597</td>\n",
       "      <td>3</td>\n",
       "      <td>965498159</td>\n",
       "      <td>15882</td>\n",
       "    </tr>\n",
       "    <tr>\n",
       "      <th>399526</th>\n",
       "      <td>2378</td>\n",
       "      <td>2329</td>\n",
       "      <td>5</td>\n",
       "      <td>974386658</td>\n",
       "      <td>10144</td>\n",
       "    </tr>\n",
       "    <tr>\n",
       "      <th>198531</th>\n",
       "      <td>1220</td>\n",
       "      <td>2987</td>\n",
       "      <td>4</td>\n",
       "      <td>974925733</td>\n",
       "      <td>4984</td>\n",
       "    </tr>\n",
       "    <tr>\n",
       "      <th>889947</th>\n",
       "      <td>5370</td>\n",
       "      <td>3175</td>\n",
       "      <td>4</td>\n",
       "      <td>960485594</td>\n",
       "      <td>20766</td>\n",
       "    </tr>\n",
       "    <tr>\n",
       "      <th>745202</th>\n",
       "      <td>4448</td>\n",
       "      <td>3950</td>\n",
       "      <td>4</td>\n",
       "      <td>992630811</td>\n",
       "      <td>17112</td>\n",
       "    </tr>\n",
       "    <tr>\n",
       "      <th>215919</th>\n",
       "      <td>1309</td>\n",
       "      <td>1584</td>\n",
       "      <td>3</td>\n",
       "      <td>974782300</td>\n",
       "      <td>5485</td>\n",
       "    </tr>\n",
       "    <tr>\n",
       "      <th>309716</th>\n",
       "      <td>1842</td>\n",
       "      <td>1909</td>\n",
       "      <td>4</td>\n",
       "      <td>996424698</td>\n",
       "      <td>7988</td>\n",
       "    </tr>\n",
       "    <tr>\n",
       "      <th>685858</th>\n",
       "      <td>4101</td>\n",
       "      <td>2000</td>\n",
       "      <td>4</td>\n",
       "      <td>965412830</td>\n",
       "      <td>16045</td>\n",
       "    </tr>\n",
       "    <tr>\n",
       "      <th>487424</th>\n",
       "      <td>2997</td>\n",
       "      <td>1968</td>\n",
       "      <td>4</td>\n",
       "      <td>970684566</td>\n",
       "      <td>11982</td>\n",
       "    </tr>\n",
       "    <tr>\n",
       "      <th>133525</th>\n",
       "      <td>863</td>\n",
       "      <td>260</td>\n",
       "      <td>5</td>\n",
       "      <td>975281842</td>\n",
       "      <td>3356</td>\n",
       "    </tr>\n",
       "  </tbody>\n",
       "</table>\n",
       "</div>"
      ],
      "text/plain": [
       "        UserId  ItemId  Rating       Time  SessionId\n",
       "674802    4049    1597       3  965498159      15882\n",
       "399526    2378    2329       5  974386658      10144\n",
       "198531    1220    2987       4  974925733       4984\n",
       "889947    5370    3175       4  960485594      20766\n",
       "745202    4448    3950       4  992630811      17112\n",
       "215919    1309    1584       3  974782300       5485\n",
       "309716    1842    1909       4  996424698       7988\n",
       "685858    4101    2000       4  965412830      16045\n",
       "487424    2997    1968       4  970684566      11982\n",
       "133525     863     260       5  975281842       3356"
      ]
     },
     "execution_count": 6,
     "metadata": {},
     "output_type": "execute_result"
    }
   ],
   "source": [
    "# Session_ID 생성 : 세션에 대한 기준은 1시간으로 설정! (3600초)\n",
    "session = []\n",
    "\n",
    "prev_time = 0\n",
    "prev_user = 0\n",
    "cur_session = 0\n",
    "\n",
    "for one_data in data.iloc:\n",
    "    if one_data['Time'] - prev_time > 3600 or prev_user != one_data['UserId']:\n",
    "        cur_session += 1\n",
    "    prev_time = one_data['Time']\n",
    "    prev_user = one_data['UserId']\n",
    "    session.append(cur_session)\n",
    "    \n",
    "data['SessionId'] = session\n",
    "data.sample(n=10) # 랜덤으로 10개만 추출"
   ]
  },
  {
   "cell_type": "code",
   "execution_count": 7,
   "metadata": {},
   "outputs": [
    {
     "data": {
      "text/plain": [
       "(6039, 3628)"
      ]
     },
     "execution_count": 7,
     "metadata": {},
     "output_type": "execute_result"
    }
   ],
   "source": [
    "# 유저 수(세션 수)와 아이템 수 확인\n",
    "data['UserId'].nunique(), data['ItemId'].nunique()"
   ]
  },
  {
   "cell_type": "code",
   "execution_count": 8,
   "metadata": {},
   "outputs": [
    {
     "data": {
      "text/html": [
       "<div>\n",
       "<style scoped>\n",
       "    .dataframe tbody tr th:only-of-type {\n",
       "        vertical-align: middle;\n",
       "    }\n",
       "\n",
       "    .dataframe tbody tr th {\n",
       "        vertical-align: top;\n",
       "    }\n",
       "\n",
       "    .dataframe thead th {\n",
       "        text-align: right;\n",
       "    }\n",
       "</style>\n",
       "<table border=\"1\" class=\"dataframe\">\n",
       "  <thead>\n",
       "    <tr style=\"text-align: right;\">\n",
       "      <th></th>\n",
       "      <th>UserId</th>\n",
       "      <th>ItemId</th>\n",
       "      <th>Rating</th>\n",
       "      <th>Time</th>\n",
       "      <th>SessionId</th>\n",
       "    </tr>\n",
       "  </thead>\n",
       "  <tbody>\n",
       "    <tr>\n",
       "      <th>31</th>\n",
       "      <td>1</td>\n",
       "      <td>3186</td>\n",
       "      <td>4</td>\n",
       "      <td>2000-12-31 22:00:19</td>\n",
       "      <td>1</td>\n",
       "    </tr>\n",
       "    <tr>\n",
       "      <th>22</th>\n",
       "      <td>1</td>\n",
       "      <td>1270</td>\n",
       "      <td>5</td>\n",
       "      <td>2000-12-31 22:00:55</td>\n",
       "      <td>1</td>\n",
       "    </tr>\n",
       "    <tr>\n",
       "      <th>27</th>\n",
       "      <td>1</td>\n",
       "      <td>1721</td>\n",
       "      <td>4</td>\n",
       "      <td>2000-12-31 22:00:55</td>\n",
       "      <td>1</td>\n",
       "    </tr>\n",
       "    <tr>\n",
       "      <th>37</th>\n",
       "      <td>1</td>\n",
       "      <td>1022</td>\n",
       "      <td>5</td>\n",
       "      <td>2000-12-31 22:00:55</td>\n",
       "      <td>1</td>\n",
       "    </tr>\n",
       "    <tr>\n",
       "      <th>24</th>\n",
       "      <td>1</td>\n",
       "      <td>2340</td>\n",
       "      <td>3</td>\n",
       "      <td>2000-12-31 22:01:43</td>\n",
       "      <td>1</td>\n",
       "    </tr>\n",
       "  </tbody>\n",
       "</table>\n",
       "</div>"
      ],
      "text/plain": [
       "    UserId  ItemId  Rating                Time  SessionId\n",
       "31       1    3186       4 2000-12-31 22:00:19          1\n",
       "22       1    1270       5 2000-12-31 22:00:55          1\n",
       "27       1    1721       4 2000-12-31 22:00:55          1\n",
       "37       1    1022       5 2000-12-31 22:00:55          1\n",
       "24       1    2340       3 2000-12-31 22:01:43          1"
      ]
     },
     "execution_count": 8,
     "metadata": {},
     "output_type": "execute_result"
    }
   ],
   "source": [
    "# Convert Integers to Datetime\n",
    "data['Time'] = pd.to_datetime(data['Time'], unit='s')\n",
    "data.head()"
   ]
  },
  {
   "cell_type": "code",
   "execution_count": 9,
   "metadata": {},
   "outputs": [
    {
     "data": {
      "text/plain": [
       "SessionId\n",
       "1         40\n",
       "2         13\n",
       "3        116\n",
       "4         46\n",
       "5         19\n",
       "        ... \n",
       "23388      7\n",
       "23389     13\n",
       "23390      1\n",
       "23391     21\n",
       "23392      1\n",
       "Length: 23392, dtype: int64"
      ]
     },
     "execution_count": 9,
     "metadata": {},
     "output_type": "execute_result"
    }
   ],
   "source": [
    "# 각 세션이 대략 몇 개의 클릭 데이터를 갖는지\n",
    "session_length = data.groupby('SessionId').size()\n",
    "session_length"
   ]
  },
  {
   "cell_type": "code",
   "execution_count": 10,
   "metadata": {},
   "outputs": [
    {
     "data": {
      "text/plain": [
       "(6.0, 35.75914842681259, 1, 1003)"
      ]
     },
     "execution_count": 10,
     "metadata": {},
     "output_type": "execute_result"
    }
   ],
   "source": [
    "session_length.median(), session_length.mean(), session_length.min(), session_length.max()"
   ]
  },
  {
   "cell_type": "code",
   "execution_count": 11,
   "metadata": {},
   "outputs": [
    {
     "data": {
      "text/plain": [
       "635.3080000000482"
      ]
     },
     "execution_count": 11,
     "metadata": {},
     "output_type": "execute_result"
    }
   ],
   "source": [
    "session_length.quantile(0.999)"
   ]
  },
  {
   "cell_type": "code",
   "execution_count": 12,
   "metadata": {},
   "outputs": [
    {
     "data": {
      "text/html": [
       "<div>\n",
       "<style scoped>\n",
       "    .dataframe tbody tr th:only-of-type {\n",
       "        vertical-align: middle;\n",
       "    }\n",
       "\n",
       "    .dataframe tbody tr th {\n",
       "        vertical-align: top;\n",
       "    }\n",
       "\n",
       "    .dataframe thead th {\n",
       "        text-align: right;\n",
       "    }\n",
       "</style>\n",
       "<table border=\"1\" class=\"dataframe\">\n",
       "  <thead>\n",
       "    <tr style=\"text-align: right;\">\n",
       "      <th></th>\n",
       "      <th>UserId</th>\n",
       "      <th>ItemId</th>\n",
       "      <th>Rating</th>\n",
       "      <th>Time</th>\n",
       "      <th>SessionId</th>\n",
       "    </tr>\n",
       "  </thead>\n",
       "  <tbody>\n",
       "    <tr>\n",
       "      <th>493711</th>\n",
       "      <td>3032</td>\n",
       "      <td>1270</td>\n",
       "      <td>5</td>\n",
       "      <td>2000-09-30 19:20:29</td>\n",
       "      <td>12145</td>\n",
       "    </tr>\n",
       "    <tr>\n",
       "      <th>493922</th>\n",
       "      <td>3032</td>\n",
       "      <td>3432</td>\n",
       "      <td>3</td>\n",
       "      <td>2000-09-30 19:20:29</td>\n",
       "      <td>12145</td>\n",
       "    </tr>\n",
       "    <tr>\n",
       "      <th>493999</th>\n",
       "      <td>3032</td>\n",
       "      <td>1886</td>\n",
       "      <td>5</td>\n",
       "      <td>2000-09-30 19:20:29</td>\n",
       "      <td>12145</td>\n",
       "    </tr>\n",
       "    <tr>\n",
       "      <th>494147</th>\n",
       "      <td>3032</td>\n",
       "      <td>801</td>\n",
       "      <td>3</td>\n",
       "      <td>2000-09-30 19:20:29</td>\n",
       "      <td>12145</td>\n",
       "    </tr>\n",
       "    <tr>\n",
       "      <th>494311</th>\n",
       "      <td>3032</td>\n",
       "      <td>110</td>\n",
       "      <td>5</td>\n",
       "      <td>2000-09-30 19:20:29</td>\n",
       "      <td>12145</td>\n",
       "    </tr>\n",
       "    <tr>\n",
       "      <th>...</th>\n",
       "      <td>...</td>\n",
       "      <td>...</td>\n",
       "      <td>...</td>\n",
       "      <td>...</td>\n",
       "      <td>...</td>\n",
       "    </tr>\n",
       "    <tr>\n",
       "      <th>494642</th>\n",
       "      <td>3032</td>\n",
       "      <td>553</td>\n",
       "      <td>5</td>\n",
       "      <td>2000-10-01 02:09:11</td>\n",
       "      <td>12145</td>\n",
       "    </tr>\n",
       "    <tr>\n",
       "      <th>493995</th>\n",
       "      <td>3032</td>\n",
       "      <td>3487</td>\n",
       "      <td>4</td>\n",
       "      <td>2000-10-01 02:09:42</td>\n",
       "      <td>12145</td>\n",
       "    </tr>\n",
       "    <tr>\n",
       "      <th>494579</th>\n",
       "      <td>3032</td>\n",
       "      <td>383</td>\n",
       "      <td>5</td>\n",
       "      <td>2000-10-01 02:10:09</td>\n",
       "      <td>12145</td>\n",
       "    </tr>\n",
       "    <tr>\n",
       "      <th>493885</th>\n",
       "      <td>3032</td>\n",
       "      <td>996</td>\n",
       "      <td>4</td>\n",
       "      <td>2000-10-01 02:10:47</td>\n",
       "      <td>12145</td>\n",
       "    </tr>\n",
       "    <tr>\n",
       "      <th>494000</th>\n",
       "      <td>3032</td>\n",
       "      <td>416</td>\n",
       "      <td>5</td>\n",
       "      <td>2000-10-01 02:10:47</td>\n",
       "      <td>12145</td>\n",
       "    </tr>\n",
       "  </tbody>\n",
       "</table>\n",
       "<p>1003 rows × 5 columns</p>\n",
       "</div>"
      ],
      "text/plain": [
       "        UserId  ItemId  Rating                Time  SessionId\n",
       "493711    3032    1270       5 2000-09-30 19:20:29      12145\n",
       "493922    3032    3432       3 2000-09-30 19:20:29      12145\n",
       "493999    3032    1886       5 2000-09-30 19:20:29      12145\n",
       "494147    3032     801       3 2000-09-30 19:20:29      12145\n",
       "494311    3032     110       5 2000-09-30 19:20:29      12145\n",
       "...        ...     ...     ...                 ...        ...\n",
       "494642    3032     553       5 2000-10-01 02:09:11      12145\n",
       "493995    3032    3487       4 2000-10-01 02:09:42      12145\n",
       "494579    3032     383       5 2000-10-01 02:10:09      12145\n",
       "493885    3032     996       4 2000-10-01 02:10:47      12145\n",
       "494000    3032     416       5 2000-10-01 02:10:47      12145\n",
       "\n",
       "[1003 rows x 5 columns]"
      ]
     },
     "execution_count": 12,
     "metadata": {},
     "output_type": "execute_result"
    }
   ],
   "source": [
    "long_session = session_length[session_length==1003].index[0]\n",
    "data[data['SessionId']==long_session]"
   ]
  },
  {
   "cell_type": "code",
   "execution_count": 13,
   "metadata": {},
   "outputs": [],
   "source": [
    "length_count = session_length.groupby(session_length).size()\n",
    "length_percent_cumsum = length_count.cumsum() / length_count.sum()\n",
    "length_percent_cumsum_999 = length_percent_cumsum[length_percent_cumsum < 0.999]\n",
    "\n",
    "# length_percent_cumsum_999"
   ]
  },
  {
   "cell_type": "code",
   "execution_count": 14,
   "metadata": {},
   "outputs": [
    {
     "data": {
      "image/png": "[encoded data removed]",
      "text/plain": [
       "<Figure size 1440x720 with 1 Axes>"
      ]
     },
     "metadata": {
      "needs_background": "light"
     },
     "output_type": "display_data"
    }
   ],
   "source": [
    "plt.figure(figsize=(20, 10))\n",
    "plt.bar(x=length_percent_cumsum_999.index,\n",
    "        height=length_percent_cumsum_999, color='red')\n",
    "plt.xticks(length_percent_cumsum_999.index, rotation=-90)\n",
    "plt.yticks(np.arange(0, 1.01, 0.05))\n",
    "plt.title('Cumsum Percentage Until 0.999', size=20)\n",
    "plt.show()"
   ]
  },
  {
   "cell_type": "code",
   "execution_count": 15,
   "metadata": {},
   "outputs": [
    {
     "name": "stdout",
     "output_type": "stream",
     "text": [
      "2000-04-25 23:05:32\n",
      "2003-02-28 17:49:50\n"
     ]
    }
   ],
   "source": [
    "# 데이터의 시간 관련 정보\n",
    "oldest, latest = data['Time'].min(), data['Time'].max()\n",
    "print(oldest)\n",
    "print(latest)"
   ]
  },
  {
   "cell_type": "code",
   "execution_count": 16,
   "metadata": {},
   "outputs": [
    {
     "data": {
      "text/plain": [
       "pandas._libs.tslibs.timestamps.Timestamp"
      ]
     },
     "execution_count": 16,
     "metadata": {},
     "output_type": "execute_result"
    }
   ],
   "source": [
    "type(latest)"
   ]
  },
  {
   "cell_type": "markdown",
   "metadata": {},
   "source": [
    "- 3년치 데이터 중에서도 평점이 3 이상인 데이터들만 사용하므로 전체 데이터에 대해서 학습을 진행하기로 판단."
   ]
  },
  {
   "cell_type": "code",
   "execution_count": 17,
   "metadata": {},
   "outputs": [],
   "source": [
    "# # 정확도 측정을 위해 우선 2년치 데이터로 해보고 파일을 새로 생성해서 전체 데이터로도 진행해볼 것!\n",
    "# month_ago = latest - dt.timedelta(730)  # 최종 날짜로부터 2년 이전 날짜를 구한다.  \n",
    "# data = data[data['DateTime'] > month_ago]   # 방금 구한 날짜 이후의 데이터만 모은다. \n",
    "# data\n",
    "# # len(data)"
   ]
  },
  {
   "cell_type": "code",
   "execution_count": 18,
   "metadata": {},
   "outputs": [],
   "source": [
    "# # short_session을 제거한 다음 unpopular item을 제거하면 다시 길이가 1인 session이 생길 수 있습니다.\n",
    "# # 이를 위해 반복문을 통해 지속적으로 제거 합니다.\n",
    "# def cleanse_recursive(data: pd.DataFrame, shortest, least_click) -> pd.DataFrame:\n",
    "#     while True:\n",
    "#         before_len = len(data)\n",
    "#         data = cleanse_short_session(data, shortest)\n",
    "#         # data = cleanse_unpopular_item(data, least_click)\n",
    "#         after_len = len(data)\n",
    "#         if before_len == after_len:\n",
    "#             break\n",
    "#     return data\n",
    "\n",
    "\n",
    "# def cleanse_short_session(data: pd.DataFrame, shortest):\n",
    "#     session_len = data.groupby('SessionId').size()\n",
    "#     session_use = session_len[session_len >= shortest].index\n",
    "#     data = data[data['SessionId'].isin(session_use)]\n",
    "#     return data\n",
    "\n",
    "\n",
    "# def cleanse_unpopular_item(data: pd.DataFrame, least_click):\n",
    "#     item_popular = data.groupby('ItemId').size()\n",
    "#     item_use = item_popular[item_popular >= least_click].index\n",
    "#     data = data[data['ItemId'].isin(item_use)]\n",
    "#     return data"
   ]
  },
  {
   "cell_type": "code",
   "execution_count": 19,
   "metadata": {},
   "outputs": [],
   "source": [
    "# new_data = cleanse_recursive(data, shortest=2, least_click=5)\n",
    "# new_data.shape"
   ]
  },
  {
   "cell_type": "code",
   "execution_count": 20,
   "metadata": {},
   "outputs": [
    {
     "data": {
      "text/plain": [
       "Timedelta('1038 days 18:44:18')"
      ]
     },
     "execution_count": 20,
     "metadata": {},
     "output_type": "execute_result"
    }
   ],
   "source": [
    "data['Time'].max() - data['Time'].min()"
   ]
  },
  {
   "cell_type": "code",
   "execution_count": 21,
   "metadata": {},
   "outputs": [],
   "source": [
    "def split_by_date(data: pd.DataFrame, n_days: int):\n",
    "    final_time = data['Time'].max()\n",
    "    session_last_time = data.groupby('SessionId')['Time'].max()\n",
    "    session_in_train = session_last_time[session_last_time < final_time - dt.timedelta(n_days)].index\n",
    "    session_in_test = session_last_time[session_last_time >= final_time - dt.timedelta(n_days)].index\n",
    "\n",
    "    before_date = data[data['SessionId'].isin(session_in_train)]\n",
    "    after_date = data[data['SessionId'].isin(session_in_test)]\n",
    "    after_date = after_date[after_date['ItemId'].isin(before_date['ItemId'])]\n",
    "    return before_date, after_date"
   ]
  },
  {
   "cell_type": "code",
   "execution_count": 86,
   "metadata": {},
   "outputs": [],
   "source": [
    "train, test = split_by_date(data, n_days=1038*0.79)\n",
    "train, valid = split_by_date(train, n_days=1038*0.01)"
   ]
  },
  {
   "cell_type": "code",
   "execution_count": 87,
   "metadata": {},
   "outputs": [
    {
     "name": "stdout",
     "output_type": "stream",
     "text": [
      "(520369, 5)\n",
      "Sessions :  8980\n",
      "Items :  3515\n",
      "First Time :  2000-04-25 23:05:32\n",
      "Last Time :  2000-11-20 08:03:44\n"
     ]
    }
   ],
   "source": [
    "print(train.shape)\n",
    "print(\"Sessions : \", train['SessionId'].nunique())\n",
    "print(\"Items : \", train['ItemId'].nunique())\n",
    "print(\"First Time : \", train['Time'].min())\n",
    "print(\"Last Time : \", train['Time'].max())"
   ]
  },
  {
   "cell_type": "code",
   "execution_count": 88,
   "metadata": {},
   "outputs": [
    {
     "name": "stdout",
     "output_type": "stream",
     "text": [
      "(140815, 5)\n",
      "Sessions :  2157\n",
      "Items :  3296\n",
      "First Time :  2000-11-20 03:52:36\n",
      "Last Time :  2000-11-30 17:13:06\n"
     ]
    }
   ],
   "source": [
    "print(valid.shape)\n",
    "print(\"Sessions : \", valid['SessionId'].nunique())\n",
    "print(\"Items : \", valid['ItemId'].nunique())\n",
    "print(\"First Time : \", valid['Time'].min())\n",
    "print(\"Last Time : \", valid['Time'].max())"
   ]
  },
  {
   "cell_type": "code",
   "execution_count": 89,
   "metadata": {},
   "outputs": [
    {
     "name": "stdout",
     "output_type": "stream",
     "text": [
      "(175086, 5)\n",
      "Sessions :  12223\n",
      "Items :  3375\n",
      "First Time :  2000-11-30 17:20:08\n",
      "Last Time :  2003-02-28 17:49:50\n"
     ]
    }
   ],
   "source": [
    "print(test.shape)\n",
    "print(\"Sessions : \", test['SessionId'].nunique())\n",
    "print(\"Items : \", test['ItemId'].nunique())\n",
    "print(\"First Time : \", test['Time'].min())\n",
    "print(\"Last Time : \", test['Time'].max())"
   ]
  },
  {
   "cell_type": "code",
   "execution_count": 90,
   "metadata": {},
   "outputs": [],
   "source": [
    "# train set에 없는 아이템이 val, test기간에 생길 수 있으므로 train data를 기준으로 인덱싱합니다.\n",
    "id2idx = {item_id : index for index, item_id in enumerate(train['ItemId'].unique())}\n",
    "\n",
    "def indexing(df, id2idx):\n",
    "    df['item_idx'] = df['ItemId'].map(lambda x: id2idx.get(x, -1))  # id2idx에 없는 아이템은 모르는 값(-1) 처리 해줍니다.\n",
    "    return df"
   ]
  },
  {
   "cell_type": "code",
   "execution_count": 91,
   "metadata": {},
   "outputs": [],
   "source": [
    "train = indexing(train, id2idx)\n",
    "valid = indexing(valid, id2idx)\n",
    "test = indexing(test, id2idx)"
   ]
  },
  {
   "cell_type": "code",
   "execution_count": 92,
   "metadata": {},
   "outputs": [
    {
     "data": {
      "text/html": [
       "<div>\n",
       "<style scoped>\n",
       "    .dataframe tbody tr th:only-of-type {\n",
       "        vertical-align: middle;\n",
       "    }\n",
       "\n",
       "    .dataframe tbody tr th {\n",
       "        vertical-align: top;\n",
       "    }\n",
       "\n",
       "    .dataframe thead th {\n",
       "        text-align: right;\n",
       "    }\n",
       "</style>\n",
       "<table border=\"1\" class=\"dataframe\">\n",
       "  <thead>\n",
       "    <tr style=\"text-align: right;\">\n",
       "      <th></th>\n",
       "      <th>UserId</th>\n",
       "      <th>ItemId</th>\n",
       "      <th>Rating</th>\n",
       "      <th>Time</th>\n",
       "      <th>SessionId</th>\n",
       "      <th>item_idx</th>\n",
       "    </tr>\n",
       "  </thead>\n",
       "  <tbody>\n",
       "    <tr>\n",
       "      <th>285653</th>\n",
       "      <td>1702</td>\n",
       "      <td>1193</td>\n",
       "      <td>5</td>\n",
       "      <td>2000-11-20 07:58:36</td>\n",
       "      <td>7272</td>\n",
       "      <td>0</td>\n",
       "    </tr>\n",
       "    <tr>\n",
       "      <th>285629</th>\n",
       "      <td>1702</td>\n",
       "      <td>780</td>\n",
       "      <td>5</td>\n",
       "      <td>2000-11-20 07:59:34</td>\n",
       "      <td>7272</td>\n",
       "      <td>1</td>\n",
       "    </tr>\n",
       "    <tr>\n",
       "      <th>285639</th>\n",
       "      <td>1702</td>\n",
       "      <td>252</td>\n",
       "      <td>5</td>\n",
       "      <td>2000-11-20 07:59:34</td>\n",
       "      <td>7272</td>\n",
       "      <td>2</td>\n",
       "    </tr>\n",
       "    <tr>\n",
       "      <th>285654</th>\n",
       "      <td>1702</td>\n",
       "      <td>1196</td>\n",
       "      <td>4</td>\n",
       "      <td>2000-11-20 07:59:34</td>\n",
       "      <td>7272</td>\n",
       "      <td>3</td>\n",
       "    </tr>\n",
       "    <tr>\n",
       "      <th>285621</th>\n",
       "      <td>1702</td>\n",
       "      <td>3793</td>\n",
       "      <td>5</td>\n",
       "      <td>2000-11-20 08:01:39</td>\n",
       "      <td>7272</td>\n",
       "      <td>4</td>\n",
       "    </tr>\n",
       "    <tr>\n",
       "      <th>...</th>\n",
       "      <td>...</td>\n",
       "      <td>...</td>\n",
       "      <td>...</td>\n",
       "      <td>...</td>\n",
       "      <td>...</td>\n",
       "      <td>...</td>\n",
       "    </tr>\n",
       "    <tr>\n",
       "      <th>1000075</th>\n",
       "      <td>6040</td>\n",
       "      <td>1273</td>\n",
       "      <td>4</td>\n",
       "      <td>2000-07-28 23:58:54</td>\n",
       "      <td>23389</td>\n",
       "      <td>1229</td>\n",
       "    </tr>\n",
       "    <tr>\n",
       "      <th>1000188</th>\n",
       "      <td>6040</td>\n",
       "      <td>535</td>\n",
       "      <td>4</td>\n",
       "      <td>2000-07-28 23:58:54</td>\n",
       "      <td>23389</td>\n",
       "      <td>1106</td>\n",
       "    </tr>\n",
       "    <tr>\n",
       "      <th>1000191</th>\n",
       "      <td>6040</td>\n",
       "      <td>3751</td>\n",
       "      <td>4</td>\n",
       "      <td>2000-07-28 23:59:42</td>\n",
       "      <td>23389</td>\n",
       "      <td>865</td>\n",
       "    </tr>\n",
       "    <tr>\n",
       "      <th>1000194</th>\n",
       "      <td>6040</td>\n",
       "      <td>1077</td>\n",
       "      <td>5</td>\n",
       "      <td>2000-07-28 23:59:59</td>\n",
       "      <td>23389</td>\n",
       "      <td>1149</td>\n",
       "    </tr>\n",
       "    <tr>\n",
       "      <th>999972</th>\n",
       "      <td>6040</td>\n",
       "      <td>3168</td>\n",
       "      <td>4</td>\n",
       "      <td>2000-07-29 00:01:40</td>\n",
       "      <td>23389</td>\n",
       "      <td>421</td>\n",
       "    </tr>\n",
       "  </tbody>\n",
       "</table>\n",
       "<p>520369 rows × 6 columns</p>\n",
       "</div>"
      ],
      "text/plain": [
       "         UserId  ItemId  Rating                Time  SessionId  item_idx\n",
       "285653     1702    1193       5 2000-11-20 07:58:36       7272         0\n",
       "285629     1702     780       5 2000-11-20 07:59:34       7272         1\n",
       "285639     1702     252       5 2000-11-20 07:59:34       7272         2\n",
       "285654     1702    1196       4 2000-11-20 07:59:34       7272         3\n",
       "285621     1702    3793       5 2000-11-20 08:01:39       7272         4\n",
       "...         ...     ...     ...                 ...        ...       ...\n",
       "1000075    6040    1273       4 2000-07-28 23:58:54      23389      1229\n",
       "1000188    6040     535       4 2000-07-28 23:58:54      23389      1106\n",
       "1000191    6040    3751       4 2000-07-28 23:59:42      23389       865\n",
       "1000194    6040    1077       5 2000-07-28 23:59:59      23389      1149\n",
       "999972     6040    3168       4 2000-07-29 00:01:40      23389       421\n",
       "\n",
       "[520369 rows x 6 columns]"
      ]
     },
     "execution_count": 92,
     "metadata": {},
     "output_type": "execute_result"
    }
   ],
   "source": [
    "train"
   ]
  },
  {
   "cell_type": "code",
   "execution_count": 93,
   "metadata": {},
   "outputs": [
    {
     "data": {
      "text/html": [
       "<div>\n",
       "<style scoped>\n",
       "    .dataframe tbody tr th:only-of-type {\n",
       "        vertical-align: middle;\n",
       "    }\n",
       "\n",
       "    .dataframe tbody tr th {\n",
       "        vertical-align: top;\n",
       "    }\n",
       "\n",
       "    .dataframe thead th {\n",
       "        text-align: right;\n",
       "    }\n",
       "</style>\n",
       "<table border=\"1\" class=\"dataframe\">\n",
       "  <thead>\n",
       "    <tr style=\"text-align: right;\">\n",
       "      <th></th>\n",
       "      <th>UserId</th>\n",
       "      <th>ItemId</th>\n",
       "      <th>Rating</th>\n",
       "      <th>Time</th>\n",
       "      <th>SessionId</th>\n",
       "      <th>item_idx</th>\n",
       "    </tr>\n",
       "  </thead>\n",
       "  <tbody>\n",
       "    <tr>\n",
       "      <th>102883</th>\n",
       "      <td>680</td>\n",
       "      <td>1674</td>\n",
       "      <td>5</td>\n",
       "      <td>2000-11-30 17:03:05</td>\n",
       "      <td>2681</td>\n",
       "      <td>496</td>\n",
       "    </tr>\n",
       "    <tr>\n",
       "      <th>102879</th>\n",
       "      <td>680</td>\n",
       "      <td>1291</td>\n",
       "      <td>4</td>\n",
       "      <td>2000-11-30 17:03:42</td>\n",
       "      <td>2681</td>\n",
       "      <td>156</td>\n",
       "    </tr>\n",
       "    <tr>\n",
       "      <th>102895</th>\n",
       "      <td>680</td>\n",
       "      <td>1197</td>\n",
       "      <td>5</td>\n",
       "      <td>2000-11-30 17:03:42</td>\n",
       "      <td>2681</td>\n",
       "      <td>7</td>\n",
       "    </tr>\n",
       "    <tr>\n",
       "      <th>102887</th>\n",
       "      <td>680</td>\n",
       "      <td>260</td>\n",
       "      <td>5</td>\n",
       "      <td>2000-11-30 17:04:09</td>\n",
       "      <td>2681</td>\n",
       "      <td>13</td>\n",
       "    </tr>\n",
       "    <tr>\n",
       "      <th>102904</th>\n",
       "      <td>680</td>\n",
       "      <td>319</td>\n",
       "      <td>3</td>\n",
       "      <td>2000-11-30 17:04:09</td>\n",
       "      <td>2681</td>\n",
       "      <td>1560</td>\n",
       "    </tr>\n",
       "    <tr>\n",
       "      <th>...</th>\n",
       "      <td>...</td>\n",
       "      <td>...</td>\n",
       "      <td>...</td>\n",
       "      <td>...</td>\n",
       "      <td>...</td>\n",
       "      <td>...</td>\n",
       "    </tr>\n",
       "    <tr>\n",
       "      <th>982280</th>\n",
       "      <td>5927</td>\n",
       "      <td>3949</td>\n",
       "      <td>5</td>\n",
       "      <td>2000-11-21 17:38:29</td>\n",
       "      <td>23023</td>\n",
       "      <td>137</td>\n",
       "    </tr>\n",
       "    <tr>\n",
       "      <th>982217</th>\n",
       "      <td>5927</td>\n",
       "      <td>3893</td>\n",
       "      <td>4</td>\n",
       "      <td>2000-11-21 17:38:43</td>\n",
       "      <td>23023</td>\n",
       "      <td>139</td>\n",
       "    </tr>\n",
       "    <tr>\n",
       "      <th>982273</th>\n",
       "      <td>5927</td>\n",
       "      <td>3911</td>\n",
       "      <td>4</td>\n",
       "      <td>2000-11-21 17:38:43</td>\n",
       "      <td>23023</td>\n",
       "      <td>310</td>\n",
       "    </tr>\n",
       "    <tr>\n",
       "      <th>982274</th>\n",
       "      <td>5927</td>\n",
       "      <td>3914</td>\n",
       "      <td>4</td>\n",
       "      <td>2000-11-21 17:38:56</td>\n",
       "      <td>23023</td>\n",
       "      <td>311</td>\n",
       "    </tr>\n",
       "    <tr>\n",
       "      <th>992322</th>\n",
       "      <td>5996</td>\n",
       "      <td>2805</td>\n",
       "      <td>4</td>\n",
       "      <td>2000-11-27 16:49:35</td>\n",
       "      <td>23274</td>\n",
       "      <td>318</td>\n",
       "    </tr>\n",
       "  </tbody>\n",
       "</table>\n",
       "<p>140815 rows × 6 columns</p>\n",
       "</div>"
      ],
      "text/plain": [
       "        UserId  ItemId  Rating                Time  SessionId  item_idx\n",
       "102883     680    1674       5 2000-11-30 17:03:05       2681       496\n",
       "102879     680    1291       4 2000-11-30 17:03:42       2681       156\n",
       "102895     680    1197       5 2000-11-30 17:03:42       2681         7\n",
       "102887     680     260       5 2000-11-30 17:04:09       2681        13\n",
       "102904     680     319       3 2000-11-30 17:04:09       2681      1560\n",
       "...        ...     ...     ...                 ...        ...       ...\n",
       "982280    5927    3949       5 2000-11-21 17:38:29      23023       137\n",
       "982217    5927    3893       4 2000-11-21 17:38:43      23023       139\n",
       "982273    5927    3911       4 2000-11-21 17:38:43      23023       310\n",
       "982274    5927    3914       4 2000-11-21 17:38:56      23023       311\n",
       "992322    5996    2805       4 2000-11-27 16:49:35      23274       318\n",
       "\n",
       "[140815 rows x 6 columns]"
      ]
     },
     "execution_count": 93,
     "metadata": {},
     "output_type": "execute_result"
    }
   ],
   "source": [
    "valid"
   ]
  },
  {
   "cell_type": "code",
   "execution_count": 94,
   "metadata": {},
   "outputs": [
    {
     "data": {
      "text/html": [
       "<div>\n",
       "<style scoped>\n",
       "    .dataframe tbody tr th:only-of-type {\n",
       "        vertical-align: middle;\n",
       "    }\n",
       "\n",
       "    .dataframe tbody tr th {\n",
       "        vertical-align: top;\n",
       "    }\n",
       "\n",
       "    .dataframe thead th {\n",
       "        text-align: right;\n",
       "    }\n",
       "</style>\n",
       "<table border=\"1\" class=\"dataframe\">\n",
       "  <thead>\n",
       "    <tr style=\"text-align: right;\">\n",
       "      <th></th>\n",
       "      <th>UserId</th>\n",
       "      <th>ItemId</th>\n",
       "      <th>Rating</th>\n",
       "      <th>Time</th>\n",
       "      <th>SessionId</th>\n",
       "      <th>item_idx</th>\n",
       "    </tr>\n",
       "  </thead>\n",
       "  <tbody>\n",
       "    <tr>\n",
       "      <th>31</th>\n",
       "      <td>1</td>\n",
       "      <td>3186</td>\n",
       "      <td>4</td>\n",
       "      <td>2000-12-31 22:00:19</td>\n",
       "      <td>1</td>\n",
       "      <td>2267</td>\n",
       "    </tr>\n",
       "    <tr>\n",
       "      <th>22</th>\n",
       "      <td>1</td>\n",
       "      <td>1270</td>\n",
       "      <td>5</td>\n",
       "      <td>2000-12-31 22:00:55</td>\n",
       "      <td>1</td>\n",
       "      <td>159</td>\n",
       "    </tr>\n",
       "    <tr>\n",
       "      <th>27</th>\n",
       "      <td>1</td>\n",
       "      <td>1721</td>\n",
       "      <td>4</td>\n",
       "      <td>2000-12-31 22:00:55</td>\n",
       "      <td>1</td>\n",
       "      <td>158</td>\n",
       "    </tr>\n",
       "    <tr>\n",
       "      <th>37</th>\n",
       "      <td>1</td>\n",
       "      <td>1022</td>\n",
       "      <td>5</td>\n",
       "      <td>2000-12-31 22:00:55</td>\n",
       "      <td>1</td>\n",
       "      <td>284</td>\n",
       "    </tr>\n",
       "    <tr>\n",
       "      <th>24</th>\n",
       "      <td>1</td>\n",
       "      <td>2340</td>\n",
       "      <td>3</td>\n",
       "      <td>2000-12-31 22:01:43</td>\n",
       "      <td>1</td>\n",
       "      <td>668</td>\n",
       "    </tr>\n",
       "    <tr>\n",
       "      <th>...</th>\n",
       "      <td>...</td>\n",
       "      <td>...</td>\n",
       "      <td>...</td>\n",
       "      <td>...</td>\n",
       "      <td>...</td>\n",
       "      <td>...</td>\n",
       "    </tr>\n",
       "    <tr>\n",
       "      <th>1000019</th>\n",
       "      <td>6040</td>\n",
       "      <td>2917</td>\n",
       "      <td>4</td>\n",
       "      <td>2001-08-10 14:40:29</td>\n",
       "      <td>23391</td>\n",
       "      <td>1218</td>\n",
       "    </tr>\n",
       "    <tr>\n",
       "      <th>999988</th>\n",
       "      <td>6040</td>\n",
       "      <td>1921</td>\n",
       "      <td>4</td>\n",
       "      <td>2001-08-10 14:41:04</td>\n",
       "      <td>23391</td>\n",
       "      <td>254</td>\n",
       "    </tr>\n",
       "    <tr>\n",
       "      <th>1000172</th>\n",
       "      <td>6040</td>\n",
       "      <td>1784</td>\n",
       "      <td>3</td>\n",
       "      <td>2001-08-10 14:41:04</td>\n",
       "      <td>23391</td>\n",
       "      <td>441</td>\n",
       "    </tr>\n",
       "    <tr>\n",
       "      <th>1000167</th>\n",
       "      <td>6040</td>\n",
       "      <td>161</td>\n",
       "      <td>3</td>\n",
       "      <td>2001-08-10 14:41:26</td>\n",
       "      <td>23391</td>\n",
       "      <td>680</td>\n",
       "    </tr>\n",
       "    <tr>\n",
       "      <th>1000042</th>\n",
       "      <td>6040</td>\n",
       "      <td>1221</td>\n",
       "      <td>4</td>\n",
       "      <td>2001-08-20 13:44:15</td>\n",
       "      <td>23392</td>\n",
       "      <td>380</td>\n",
       "    </tr>\n",
       "  </tbody>\n",
       "</table>\n",
       "<p>175086 rows × 6 columns</p>\n",
       "</div>"
      ],
      "text/plain": [
       "         UserId  ItemId  Rating                Time  SessionId  item_idx\n",
       "31            1    3186       4 2000-12-31 22:00:19          1      2267\n",
       "22            1    1270       5 2000-12-31 22:00:55          1       159\n",
       "27            1    1721       4 2000-12-31 22:00:55          1       158\n",
       "37            1    1022       5 2000-12-31 22:00:55          1       284\n",
       "24            1    2340       3 2000-12-31 22:01:43          1       668\n",
       "...         ...     ...     ...                 ...        ...       ...\n",
       "1000019    6040    2917       4 2001-08-10 14:40:29      23391      1218\n",
       "999988     6040    1921       4 2001-08-10 14:41:04      23391       254\n",
       "1000172    6040    1784       3 2001-08-10 14:41:04      23391       441\n",
       "1000167    6040     161       3 2001-08-10 14:41:26      23391       680\n",
       "1000042    6040    1221       4 2001-08-20 13:44:15      23392       380\n",
       "\n",
       "[175086 rows x 6 columns]"
      ]
     },
     "execution_count": 94,
     "metadata": {},
     "output_type": "execute_result"
    }
   ],
   "source": [
    "test"
   ]
  },
  {
   "cell_type": "code",
   "execution_count": 95,
   "metadata": {},
   "outputs": [],
   "source": [
    "save_path = data_path / 'project'\n",
    "save_path.mkdir(parents=True, exist_ok=True)\n",
    "\n",
    "train.to_pickle(save_path / 'train.pkl')\n",
    "valid.to_pickle(save_path / 'valid.pkl')\n",
    "test.to_pickle(save_path / 'test.pkl')"
   ]
  },
  {
   "cell_type": "markdown",
   "metadata": {},
   "source": [
    "# Data Pipeline"
   ]
  },
  {
   "cell_type": "markdown",
   "metadata": {},
   "source": [
    "## Session Dataset"
   ]
  },
  {
   "cell_type": "code",
   "execution_count": 96,
   "metadata": {},
   "outputs": [],
   "source": [
    "class SessionDataset:\n",
    "    \"\"\"Credit to yhs-968/pyGRU4REC.\"\"\"\n",
    "\n",
    "    def __init__(self, data):\n",
    "        self.df = data\n",
    "        self.click_offsets = self.get_click_offsets()\n",
    "        self.session_idx = np.arange(self.df['SessionId'].nunique())  # indexing to SessionId\n",
    "\n",
    "    def get_click_offsets(self):\n",
    "        \"\"\"\n",
    "        Return the indexes of the first click of each session IDs,\n",
    "        \"\"\"\n",
    "        offsets = np.zeros(self.df['SessionId'].nunique() + 1, dtype=np.int32)\n",
    "        offsets[1:] = self.df.groupby('SessionId').size().cumsum()\n",
    "        return offsets"
   ]
  },
  {
   "cell_type": "code",
   "execution_count": 97,
   "metadata": {},
   "outputs": [
    {
     "data": {
      "text/html": [
       "<div>\n",
       "<style scoped>\n",
       "    .dataframe tbody tr th:only-of-type {\n",
       "        vertical-align: middle;\n",
       "    }\n",
       "\n",
       "    .dataframe tbody tr th {\n",
       "        vertical-align: top;\n",
       "    }\n",
       "\n",
       "    .dataframe thead th {\n",
       "        text-align: right;\n",
       "    }\n",
       "</style>\n",
       "<table border=\"1\" class=\"dataframe\">\n",
       "  <thead>\n",
       "    <tr style=\"text-align: right;\">\n",
       "      <th></th>\n",
       "      <th>UserId</th>\n",
       "      <th>ItemId</th>\n",
       "      <th>Rating</th>\n",
       "      <th>Time</th>\n",
       "      <th>SessionId</th>\n",
       "      <th>item_idx</th>\n",
       "    </tr>\n",
       "  </thead>\n",
       "  <tbody>\n",
       "    <tr>\n",
       "      <th>285653</th>\n",
       "      <td>1702</td>\n",
       "      <td>1193</td>\n",
       "      <td>5</td>\n",
       "      <td>2000-11-20 07:58:36</td>\n",
       "      <td>7272</td>\n",
       "      <td>0</td>\n",
       "    </tr>\n",
       "    <tr>\n",
       "      <th>285629</th>\n",
       "      <td>1702</td>\n",
       "      <td>780</td>\n",
       "      <td>5</td>\n",
       "      <td>2000-11-20 07:59:34</td>\n",
       "      <td>7272</td>\n",
       "      <td>1</td>\n",
       "    </tr>\n",
       "    <tr>\n",
       "      <th>285639</th>\n",
       "      <td>1702</td>\n",
       "      <td>252</td>\n",
       "      <td>5</td>\n",
       "      <td>2000-11-20 07:59:34</td>\n",
       "      <td>7272</td>\n",
       "      <td>2</td>\n",
       "    </tr>\n",
       "    <tr>\n",
       "      <th>285654</th>\n",
       "      <td>1702</td>\n",
       "      <td>1196</td>\n",
       "      <td>4</td>\n",
       "      <td>2000-11-20 07:59:34</td>\n",
       "      <td>7272</td>\n",
       "      <td>3</td>\n",
       "    </tr>\n",
       "    <tr>\n",
       "      <th>285621</th>\n",
       "      <td>1702</td>\n",
       "      <td>3793</td>\n",
       "      <td>5</td>\n",
       "      <td>2000-11-20 08:01:39</td>\n",
       "      <td>7272</td>\n",
       "      <td>4</td>\n",
       "    </tr>\n",
       "    <tr>\n",
       "      <th>285656</th>\n",
       "      <td>1702</td>\n",
       "      <td>839</td>\n",
       "      <td>4</td>\n",
       "      <td>2000-11-20 08:01:39</td>\n",
       "      <td>7272</td>\n",
       "      <td>5</td>\n",
       "    </tr>\n",
       "    <tr>\n",
       "      <th>285692</th>\n",
       "      <td>1702</td>\n",
       "      <td>1049</td>\n",
       "      <td>4</td>\n",
       "      <td>2000-11-20 08:01:39</td>\n",
       "      <td>7272</td>\n",
       "      <td>6</td>\n",
       "    </tr>\n",
       "    <tr>\n",
       "      <th>285706</th>\n",
       "      <td>1703</td>\n",
       "      <td>1197</td>\n",
       "      <td>5</td>\n",
       "      <td>2000-11-20 07:55:26</td>\n",
       "      <td>7275</td>\n",
       "      <td>7</td>\n",
       "    </tr>\n",
       "    <tr>\n",
       "      <th>285718</th>\n",
       "      <td>1703</td>\n",
       "      <td>1924</td>\n",
       "      <td>5</td>\n",
       "      <td>2000-11-20 07:55:26</td>\n",
       "      <td>7275</td>\n",
       "      <td>8</td>\n",
       "    </tr>\n",
       "    <tr>\n",
       "      <th>285720</th>\n",
       "      <td>1703</td>\n",
       "      <td>1961</td>\n",
       "      <td>4</td>\n",
       "      <td>2000-11-20 07:55:26</td>\n",
       "      <td>7275</td>\n",
       "      <td>9</td>\n",
       "    </tr>\n",
       "  </tbody>\n",
       "</table>\n",
       "</div>"
      ],
      "text/plain": [
       "        UserId  ItemId  Rating                Time  SessionId  item_idx\n",
       "285653    1702    1193       5 2000-11-20 07:58:36       7272         0\n",
       "285629    1702     780       5 2000-11-20 07:59:34       7272         1\n",
       "285639    1702     252       5 2000-11-20 07:59:34       7272         2\n",
       "285654    1702    1196       4 2000-11-20 07:59:34       7272         3\n",
       "285621    1702    3793       5 2000-11-20 08:01:39       7272         4\n",
       "285656    1702     839       4 2000-11-20 08:01:39       7272         5\n",
       "285692    1702    1049       4 2000-11-20 08:01:39       7272         6\n",
       "285706    1703    1197       5 2000-11-20 07:55:26       7275         7\n",
       "285718    1703    1924       5 2000-11-20 07:55:26       7275         8\n",
       "285720    1703    1961       4 2000-11-20 07:55:26       7275         9"
      ]
     },
     "execution_count": 97,
     "metadata": {},
     "output_type": "execute_result"
    }
   ],
   "source": [
    "tr_dataset = SessionDataset(train)\n",
    "tr_dataset.df.head(10)"
   ]
  },
  {
   "cell_type": "code",
   "execution_count": 98,
   "metadata": {},
   "outputs": [
    {
     "data": {
      "text/plain": [
       "array([     0,      7,     32, ..., 520349, 520356, 520369], dtype=int32)"
      ]
     },
     "execution_count": 98,
     "metadata": {},
     "output_type": "execute_result"
    }
   ],
   "source": [
    "tr_dataset.click_offsets"
   ]
  },
  {
   "cell_type": "code",
   "execution_count": 99,
   "metadata": {},
   "outputs": [
    {
     "data": {
      "text/plain": [
       "array([   0,    1,    2, ..., 8977, 8978, 8979])"
      ]
     },
     "execution_count": 99,
     "metadata": {},
     "output_type": "execute_result"
    }
   ],
   "source": [
    "tr_dataset.session_idx"
   ]
  },
  {
   "cell_type": "markdown",
   "metadata": {},
   "source": [
    "## SessionData Loader"
   ]
  },
  {
   "cell_type": "code",
   "execution_count": 100,
   "metadata": {},
   "outputs": [],
   "source": [
    "class SessionDataLoader:\n",
    "    \"\"\"Credit to yhs-968/pyGRU4REC.\"\"\"\n",
    "\n",
    "    def __init__(self, dataset: SessionDataset, batch_size=50):\n",
    "        self.dataset = dataset\n",
    "        self.batch_size = batch_size\n",
    "\n",
    "    def __iter__(self):\n",
    "        \"\"\" Returns the iterator for producing session-parallel training mini-batches.\n",
    "        Yields:\n",
    "            input (B,):  Item indices that will be encoded as one-hot vectors later.\n",
    "            target (B,): a Variable that stores the target item indices\n",
    "            masks: Numpy array indicating the positions of the sessions to be terminated\n",
    "        \"\"\"\n",
    "\n",
    "        start, end, mask, last_session, finished = self.initialize()  # initialize 메소드에서 확인해주세요.\n",
    "        \"\"\"\n",
    "        start : Index Where Session Start\n",
    "        end : Index Where Session End\n",
    "        mask : indicator for the sessions to be terminated\n",
    "        \"\"\"\n",
    "\n",
    "        while not finished:\n",
    "            min_len = (end - start).min() - 1  # Shortest Length Among Sessions\n",
    "            for i in range(min_len):\n",
    "                # Build inputs & targets\n",
    "                inp = self.dataset.df['item_idx'].values[start + i]\n",
    "                target = self.dataset.df['item_idx'].values[start + i + 1]\n",
    "                yield inp, target, mask\n",
    "\n",
    "            start, end, mask, last_session, finished = self.update_status(start, end, min_len, last_session, finished)\n",
    "\n",
    "    def initialize(self):\n",
    "        first_iters = np.arange(self.batch_size)    # 첫 배치에 사용할 세션 Index를 가져옵니다.\n",
    "        last_session = self.batch_size - 1    # 마지막으로 다루고 있는 세션 Index를 저장해둡니다.\n",
    "        start = self.dataset.click_offsets[self.dataset.session_idx[first_iters]]       # data 상에서 session이 시작된 위치를 가져옵니다.\n",
    "        end = self.dataset.click_offsets[self.dataset.session_idx[first_iters] + 1]  # session이 끝난 위치 바로 다음 위치를 가져옵니다.\n",
    "        mask = np.array([])   # session의 모든 아이템을 다 돌은 경우 mask에 추가해줄 것입니다.\n",
    "        finished = False         # data를 전부 돌았는지 기록하기 위한 변수입니다.\n",
    "        return start, end, mask, last_session, finished\n",
    "\n",
    "    def update_status(self, start: np.ndarray, end: np.ndarray, min_len: int, last_session: int, finished: bool):  \n",
    "        # 다음 배치 데이터를 생성하기 위해 상태를 update합니다.\n",
    "        \n",
    "        start += min_len   # __iter__에서 min_len 만큼 for문을 돌았으므로 start를 min_len 만큼 더해줍니다.\n",
    "        mask = np.arange(self.batch_size)[(end - start) == 1]  \n",
    "        # end는 다음 세션이 시작되는 위치인데 start와 한 칸 차이난다는 것은 session이 끝났다는 뜻입니다. mask에 기록해줍니다.\n",
    "\n",
    "        for i, idx in enumerate(mask, start=1):  # mask에 추가된 세션 개수만큼 새로운 세션을 돌것입니다.\n",
    "            new_session = last_session + i  \n",
    "            if new_session > self.dataset.session_idx[-1]:  # 만약 새로운 세션이 마지막 세션 index보다 크다면 모든 학습데이터를 돈 것입니다.\n",
    "                finished = True\n",
    "                break\n",
    "            # update the next starting/ending point\n",
    "            start[idx] = self.dataset.click_offsets[self.dataset.session_idx[new_session]]     # 종료된 세션 대신 새로운 세션의 시작점을 기록합니다.\n",
    "            end[idx] = self.dataset.click_offsets[self.dataset.session_idx[new_session] + 1]\n",
    "\n",
    "        last_session += len(mask)  # 마지막 세션의 위치를 기록해둡니다.\n",
    "        return start, end, mask, last_session, finished"
   ]
  },
  {
   "cell_type": "code",
   "execution_count": 101,
   "metadata": {},
   "outputs": [
    {
     "data": {
      "text/html": [
       "<div>\n",
       "<style scoped>\n",
       "    .dataframe tbody tr th:only-of-type {\n",
       "        vertical-align: middle;\n",
       "    }\n",
       "\n",
       "    .dataframe tbody tr th {\n",
       "        vertical-align: top;\n",
       "    }\n",
       "\n",
       "    .dataframe thead th {\n",
       "        text-align: right;\n",
       "    }\n",
       "</style>\n",
       "<table border=\"1\" class=\"dataframe\">\n",
       "  <thead>\n",
       "    <tr style=\"text-align: right;\">\n",
       "      <th></th>\n",
       "      <th>UserId</th>\n",
       "      <th>ItemId</th>\n",
       "      <th>Rating</th>\n",
       "      <th>Time</th>\n",
       "      <th>SessionId</th>\n",
       "      <th>item_idx</th>\n",
       "    </tr>\n",
       "  </thead>\n",
       "  <tbody>\n",
       "    <tr>\n",
       "      <th>285653</th>\n",
       "      <td>1702</td>\n",
       "      <td>1193</td>\n",
       "      <td>5</td>\n",
       "      <td>2000-11-20 07:58:36</td>\n",
       "      <td>7272</td>\n",
       "      <td>0</td>\n",
       "    </tr>\n",
       "    <tr>\n",
       "      <th>285629</th>\n",
       "      <td>1702</td>\n",
       "      <td>780</td>\n",
       "      <td>5</td>\n",
       "      <td>2000-11-20 07:59:34</td>\n",
       "      <td>7272</td>\n",
       "      <td>1</td>\n",
       "    </tr>\n",
       "    <tr>\n",
       "      <th>285639</th>\n",
       "      <td>1702</td>\n",
       "      <td>252</td>\n",
       "      <td>5</td>\n",
       "      <td>2000-11-20 07:59:34</td>\n",
       "      <td>7272</td>\n",
       "      <td>2</td>\n",
       "    </tr>\n",
       "    <tr>\n",
       "      <th>285654</th>\n",
       "      <td>1702</td>\n",
       "      <td>1196</td>\n",
       "      <td>4</td>\n",
       "      <td>2000-11-20 07:59:34</td>\n",
       "      <td>7272</td>\n",
       "      <td>3</td>\n",
       "    </tr>\n",
       "    <tr>\n",
       "      <th>285621</th>\n",
       "      <td>1702</td>\n",
       "      <td>3793</td>\n",
       "      <td>5</td>\n",
       "      <td>2000-11-20 08:01:39</td>\n",
       "      <td>7272</td>\n",
       "      <td>4</td>\n",
       "    </tr>\n",
       "    <tr>\n",
       "      <th>285656</th>\n",
       "      <td>1702</td>\n",
       "      <td>839</td>\n",
       "      <td>4</td>\n",
       "      <td>2000-11-20 08:01:39</td>\n",
       "      <td>7272</td>\n",
       "      <td>5</td>\n",
       "    </tr>\n",
       "    <tr>\n",
       "      <th>285692</th>\n",
       "      <td>1702</td>\n",
       "      <td>1049</td>\n",
       "      <td>4</td>\n",
       "      <td>2000-11-20 08:01:39</td>\n",
       "      <td>7272</td>\n",
       "      <td>6</td>\n",
       "    </tr>\n",
       "    <tr>\n",
       "      <th>285706</th>\n",
       "      <td>1703</td>\n",
       "      <td>1197</td>\n",
       "      <td>5</td>\n",
       "      <td>2000-11-20 07:55:26</td>\n",
       "      <td>7275</td>\n",
       "      <td>7</td>\n",
       "    </tr>\n",
       "    <tr>\n",
       "      <th>285718</th>\n",
       "      <td>1703</td>\n",
       "      <td>1924</td>\n",
       "      <td>5</td>\n",
       "      <td>2000-11-20 07:55:26</td>\n",
       "      <td>7275</td>\n",
       "      <td>8</td>\n",
       "    </tr>\n",
       "    <tr>\n",
       "      <th>285720</th>\n",
       "      <td>1703</td>\n",
       "      <td>1961</td>\n",
       "      <td>4</td>\n",
       "      <td>2000-11-20 07:55:26</td>\n",
       "      <td>7275</td>\n",
       "      <td>9</td>\n",
       "    </tr>\n",
       "    <tr>\n",
       "      <th>285721</th>\n",
       "      <td>1703</td>\n",
       "      <td>1969</td>\n",
       "      <td>4</td>\n",
       "      <td>2000-11-20 07:55:26</td>\n",
       "      <td>7275</td>\n",
       "      <td>10</td>\n",
       "    </tr>\n",
       "    <tr>\n",
       "      <th>285701</th>\n",
       "      <td>1703</td>\n",
       "      <td>1411</td>\n",
       "      <td>3</td>\n",
       "      <td>2000-11-20 07:56:23</td>\n",
       "      <td>7275</td>\n",
       "      <td>11</td>\n",
       "    </tr>\n",
       "    <tr>\n",
       "      <th>285702</th>\n",
       "      <td>1703</td>\n",
       "      <td>912</td>\n",
       "      <td>3</td>\n",
       "      <td>2000-11-20 07:56:23</td>\n",
       "      <td>7275</td>\n",
       "      <td>12</td>\n",
       "    </tr>\n",
       "    <tr>\n",
       "      <th>285703</th>\n",
       "      <td>1703</td>\n",
       "      <td>260</td>\n",
       "      <td>5</td>\n",
       "      <td>2000-11-20 08:00:15</td>\n",
       "      <td>7275</td>\n",
       "      <td>13</td>\n",
       "    </tr>\n",
       "    <tr>\n",
       "      <th>285707</th>\n",
       "      <td>1703</td>\n",
       "      <td>1198</td>\n",
       "      <td>5</td>\n",
       "      <td>2000-11-20 08:00:15</td>\n",
       "      <td>7275</td>\n",
       "      <td>14</td>\n",
       "    </tr>\n",
       "  </tbody>\n",
       "</table>\n",
       "</div>"
      ],
      "text/plain": [
       "        UserId  ItemId  Rating                Time  SessionId  item_idx\n",
       "285653    1702    1193       5 2000-11-20 07:58:36       7272         0\n",
       "285629    1702     780       5 2000-11-20 07:59:34       7272         1\n",
       "285639    1702     252       5 2000-11-20 07:59:34       7272         2\n",
       "285654    1702    1196       4 2000-11-20 07:59:34       7272         3\n",
       "285621    1702    3793       5 2000-11-20 08:01:39       7272         4\n",
       "285656    1702     839       4 2000-11-20 08:01:39       7272         5\n",
       "285692    1702    1049       4 2000-11-20 08:01:39       7272         6\n",
       "285706    1703    1197       5 2000-11-20 07:55:26       7275         7\n",
       "285718    1703    1924       5 2000-11-20 07:55:26       7275         8\n",
       "285720    1703    1961       4 2000-11-20 07:55:26       7275         9\n",
       "285721    1703    1969       4 2000-11-20 07:55:26       7275        10\n",
       "285701    1703    1411       3 2000-11-20 07:56:23       7275        11\n",
       "285702    1703     912       3 2000-11-20 07:56:23       7275        12\n",
       "285703    1703     260       5 2000-11-20 08:00:15       7275        13\n",
       "285707    1703    1198       5 2000-11-20 08:00:15       7275        14"
      ]
     },
     "execution_count": 101,
     "metadata": {},
     "output_type": "execute_result"
    }
   ],
   "source": [
    "tr_data_loader = SessionDataLoader(tr_dataset, batch_size=4)\n",
    "tr_dataset.df.head(15)"
   ]
  },
  {
   "cell_type": "code",
   "execution_count": 102,
   "metadata": {},
   "outputs": [],
   "source": [
    "iter_ex = iter(tr_data_loader)"
   ]
  },
  {
   "cell_type": "code",
   "execution_count": 103,
   "metadata": {},
   "outputs": [
    {
     "name": "stdout",
     "output_type": "stream",
     "text": [
      "Model Input Item Idx are : [ 0  7 32 45]\n",
      "Label Item Idx are :       [ 1  8 33 46]\n",
      "Previous Masked Input Idx are []\n"
     ]
    }
   ],
   "source": [
    "inputs, labels, mask =  next(iter_ex)\n",
    "print(f'Model Input Item Idx are : {inputs}')\n",
    "print(f'Label Item Idx are : {\"\":5} {labels}')\n",
    "print(f'Previous Masked Input Idx are {mask}')"
   ]
  },
  {
   "cell_type": "markdown",
   "metadata": {},
   "source": [
    "# Modeling"
   ]
  },
  {
   "cell_type": "markdown",
   "metadata": {},
   "source": [
    "## Evaluation Metric"
   ]
  },
  {
   "cell_type": "code",
   "execution_count": 104,
   "metadata": {},
   "outputs": [],
   "source": [
    "def mrr_k(pred, truth: int, k: int):\n",
    "    indexing = np.where(pred[:k] == truth)[0]\n",
    "    if len(indexing) > 0:\n",
    "        return 1 / (indexing[0] + 1)\n",
    "    else:\n",
    "        return 0\n",
    "\n",
    "\n",
    "def recall_k(pred, truth: int, k: int) -> int:\n",
    "    answer = truth in pred[:k]\n",
    "    return int(answer)"
   ]
  },
  {
   "cell_type": "markdown",
   "metadata": {},
   "source": [
    "## Model Architecture"
   ]
  },
  {
   "cell_type": "code",
   "execution_count": 105,
   "metadata": {},
   "outputs": [],
   "source": [
    "def create_model(args):\n",
    "    inputs = Input(batch_shape=(args.batch_size, 1, args.num_items))\n",
    "    gru, _ = GRU(args.hsz, stateful=True, return_state=True, name='GRU')(inputs)\n",
    "    dropout = Dropout(args.drop_rate)(gru)\n",
    "    predictions = Dense(args.num_items, activation='softmax')(dropout)\n",
    "    model = Model(inputs=inputs, outputs=[predictions])\n",
    "    model.compile(loss=categorical_crossentropy, optimizer=Adam(args.lr), metrics=['accuracy'])\n",
    "    model.summary()\n",
    "    return model"
   ]
  },
  {
   "cell_type": "code",
   "execution_count": 106,
   "metadata": {},
   "outputs": [],
   "source": [
    "class Args:\n",
    "    def __init__(self, tr, val, test, batch_size, hsz, drop_rate, lr, epochs, k):\n",
    "        self.tr = tr\n",
    "        self.val = val\n",
    "        self.test = test\n",
    "        self.num_items = tr['ItemId'].nunique()\n",
    "        self.num_sessions = tr['SessionId'].nunique()\n",
    "        self.batch_size = batch_size\n",
    "        self.hsz = hsz\n",
    "        self.drop_rate = drop_rate\n",
    "        self.lr = lr\n",
    "        self.epochs = epochs\n",
    "        self.k = k\n",
    "\n",
    "args = Args(train, valid, test, batch_size=32, hsz=50, drop_rate=0.1, lr=0.001, epochs=15, k=20)"
   ]
  },
  {
   "cell_type": "code",
   "execution_count": 107,
   "metadata": {},
   "outputs": [
    {
     "name": "stdout",
     "output_type": "stream",
     "text": [
      "Model: \"model\"\n",
      "_________________________________________________________________\n",
      "Layer (type)                 Output Shape              Param #   \n",
      "=================================================================\n",
      "input_1 (InputLayer)         [(32, 1, 3515)]           0         \n",
      "_________________________________________________________________\n",
      "GRU (GRU)                    [(32, 50), (32, 50)]      535050    \n",
      "_________________________________________________________________\n",
      "dropout (Dropout)            (32, 50)                  0         \n",
      "_________________________________________________________________\n",
      "dense (Dense)                (32, 3515)                179265    \n",
      "=================================================================\n",
      "Total params: 714,315\n",
      "Trainable params: 714,315\n",
      "Non-trainable params: 0\n",
      "_________________________________________________________________\n"
     ]
    }
   ],
   "source": [
    "model = create_model(args)"
   ]
  },
  {
   "cell_type": "markdown",
   "metadata": {},
   "source": [
    "## Model Training"
   ]
  },
  {
   "cell_type": "code",
   "execution_count": 108,
   "metadata": {},
   "outputs": [],
   "source": [
    "# train 셋으로 학습하면서 valid 셋으로 검증합니다.\n",
    "def train_model(model, args):\n",
    "    train_dataset = SessionDataset(args.tr)\n",
    "    train_loader = SessionDataLoader(train_dataset, batch_size=args.batch_size)\n",
    "\n",
    "    for epoch in range(1, args.epochs + 1):\n",
    "        total_step = len(args.tr) - args.tr['SessionId'].nunique()\n",
    "        tr_loader = tqdm(train_loader, total=total_step // args.batch_size, desc='Train', mininterval=1)\n",
    "        for feat, target, mask in tr_loader:\n",
    "            reset_hidden_states(model, mask)  # 종료된 session은 hidden_state를 초기화합니다. 아래 메서드에서 확인해주세요.\n",
    "\n",
    "            input_ohe = to_categorical(feat, num_classes=args.num_items)\n",
    "            input_ohe = np.expand_dims(input_ohe, axis=1)\n",
    "            target_ohe = to_categorical(target, num_classes=args.num_items)\n",
    "\n",
    "            result = model.train_on_batch(input_ohe, target_ohe)\n",
    "            tr_loader.set_postfix(train_loss=result[0], accuracy = result[1])\n",
    "\n",
    "        val_recall, val_mrr = get_metrics(args.val, model, args, args.k)  # valid set에 대해 검증합니다.\n",
    "\n",
    "        print(f\"\\t - Recall@{args.k} epoch {epoch}: {val_recall:3f}\")\n",
    "        print(f\"\\t - MRR@{args.k}    epoch {epoch}: {val_mrr:3f}\\n\")\n",
    "\n",
    "\n",
    "def reset_hidden_states(model, mask):\n",
    "    gru_layer = model.get_layer(name='GRU')  # model에서 gru layer를 가져옵니다.\n",
    "    hidden_states = gru_layer.states[0].numpy()  # gru_layer의 parameter를 가져옵니다.\n",
    "    for elt in mask:  # mask된 인덱스 즉, 종료된 세션의 인덱스를 돌면서\n",
    "        hidden_states[elt, :] = 0  # parameter를 초기화 합니다.\n",
    "    gru_layer.reset_states(states=hidden_states)\n",
    "\n",
    "\n",
    "def get_metrics(data, model, args, k: int):  # valid셋과 test셋을 평가하는 코드입니다. \n",
    "                                             # train과 거의 같지만 mrr, recall을 구하는 라인이 있습니다.\n",
    "    dataset = SessionDataset(data)\n",
    "    loader = SessionDataLoader(dataset, batch_size=args.batch_size)\n",
    "    recall_list, mrr_list = [], []\n",
    "\n",
    "    total_step = len(data) - data['SessionId'].nunique()\n",
    "    for inputs, label, mask in tqdm(loader, total=total_step // args.batch_size, desc='Evaluation', mininterval=1):\n",
    "        reset_hidden_states(model, mask)\n",
    "        input_ohe = to_categorical(inputs, num_classes=args.num_items)\n",
    "        input_ohe = np.expand_dims(input_ohe, axis=1)\n",
    "\n",
    "        pred = model.predict(input_ohe, batch_size=args.batch_size)\n",
    "        pred_arg = tf.argsort(pred, direction='DESCENDING')  # softmax 값이 큰 순서대로 sorting 합니다.\n",
    "\n",
    "        length = len(inputs)\n",
    "        recall_list.extend([recall_k(pred_arg[i], label[i], k) for i in range(length)])\n",
    "        mrr_list.extend([mrr_k(pred_arg[i], label[i], k) for i in range(length)])\n",
    "\n",
    "    recall, mrr = np.mean(recall_list), np.mean(mrr_list)\n",
    "    return recall, mrr"
   ]
  },
  {
   "cell_type": "code",
   "execution_count": 109,
   "metadata": {},
   "outputs": [
    {
     "name": "stderr",
     "output_type": "stream",
     "text": [
      "Train: 100%|█████████▉| 15902/15980 [01:45<00:00, 151.27it/s, accuracy=0.0312, train_loss=5.68]\n",
      "Evaluation:  99%|█████████▉| 4284/4333 [07:33<00:05,  9.45it/s]\n",
      "Train:   0%|          | 0/15980 [00:00<?, ?it/s, accuracy=0.0312, train_loss=6.51]"
     ]
    },
    {
     "name": "stdout",
     "output_type": "stream",
     "text": [
      "\t - Recall@20 epoch 1: 0.247148\n",
      "\t - MRR@20    epoch 1: 0.063036\n",
      "\n"
     ]
    },
    {
     "name": "stderr",
     "output_type": "stream",
     "text": [
      "Train: 100%|█████████▉| 15902/15980 [01:41<00:00, 156.54it/s, accuracy=0.0312, train_loss=5.53]\n",
      "Evaluation:  99%|█████████▉| 4284/4333 [07:20<00:05,  9.72it/s]\n",
      "Train:   0%|          | 0/15980 [00:00<?, ?it/s, accuracy=0.156, train_loss=5.69] "
     ]
    },
    {
     "name": "stdout",
     "output_type": "stream",
     "text": [
      "\t - Recall@20 epoch 2: 0.297327\n",
      "\t - MRR@20    epoch 2: 0.081887\n",
      "\n"
     ]
    },
    {
     "name": "stderr",
     "output_type": "stream",
     "text": [
      "Train: 100%|█████████▉| 15902/15980 [01:42<00:00, 154.52it/s, accuracy=0.0312, train_loss=5.36]\n",
      "Evaluation:  99%|█████████▉| 4284/4333 [07:14<00:04,  9.85it/s]\n",
      "Train:   0%|          | 0/15980 [00:00<?, ?it/s, accuracy=0.0938, train_loss=5.6] "
     ]
    },
    {
     "name": "stdout",
     "output_type": "stream",
     "text": [
      "\t - Recall@20 epoch 3: 0.317781\n",
      "\t - MRR@20    epoch 3: 0.091579\n",
      "\n"
     ]
    },
    {
     "name": "stderr",
     "output_type": "stream",
     "text": [
      "Train: 100%|█████████▉| 15902/15980 [01:41<00:00, 156.37it/s, accuracy=0.0312, train_loss=5.17]\n",
      "Evaluation:  99%|█████████▉| 4284/4333 [07:14<00:04,  9.86it/s]\n",
      "Train:   0%|          | 0/15980 [00:00<?, ?it/s, accuracy=0.188, train_loss=5.39] "
     ]
    },
    {
     "name": "stdout",
     "output_type": "stream",
     "text": [
      "\t - Recall@20 epoch 4: 0.325608\n",
      "\t - MRR@20    epoch 4: 0.096195\n",
      "\n"
     ]
    },
    {
     "name": "stderr",
     "output_type": "stream",
     "text": [
      "Train: 100%|█████████▉| 15902/15980 [01:42<00:00, 155.59it/s, accuracy=0.0312, train_loss=5.09]\n",
      "Evaluation:  99%|█████████▉| 4284/4333 [07:09<00:04,  9.97it/s]\n",
      "Train:   0%|          | 0/15980 [00:00<?, ?it/s, accuracy=0.188, train_loss=5.18] "
     ]
    },
    {
     "name": "stdout",
     "output_type": "stream",
     "text": [
      "\t - Recall@20 epoch 5: 0.330306\n",
      "\t - MRR@20    epoch 5: 0.098406\n",
      "\n"
     ]
    },
    {
     "name": "stderr",
     "output_type": "stream",
     "text": [
      "Train: 100%|█████████▉| 15902/15980 [01:41<00:00, 156.93it/s, accuracy=0.0312, train_loss=5.03]\n",
      "Evaluation:  99%|█████████▉| 4284/4333 [07:08<00:04,  9.99it/s]\n",
      "Train:   0%|          | 0/15980 [00:00<?, ?it/s, accuracy=0.156, train_loss=5.25] "
     ]
    },
    {
     "name": "stdout",
     "output_type": "stream",
     "text": [
      "\t - Recall@20 epoch 6: 0.332604\n",
      "\t - MRR@20    epoch 6: 0.099629\n",
      "\n"
     ]
    },
    {
     "name": "stderr",
     "output_type": "stream",
     "text": [
      "Train: 100%|█████████▉| 15902/15980 [01:41<00:00, 157.36it/s, accuracy=0.0312, train_loss=5.19]\n",
      "Evaluation:  99%|█████████▉| 4284/4333 [07:08<00:04,  9.99it/s]\n",
      "Train:   0%|          | 0/15980 [00:00<?, ?it/s, accuracy=0.156, train_loss=5.12] "
     ]
    },
    {
     "name": "stdout",
     "output_type": "stream",
     "text": [
      "\t - Recall@20 epoch 7: 0.332611\n",
      "\t - MRR@20    epoch 7: 0.100151\n",
      "\n"
     ]
    },
    {
     "name": "stderr",
     "output_type": "stream",
     "text": [
      "Train: 100%|█████████▉| 15902/15980 [01:40<00:00, 157.84it/s, accuracy=0.0625, train_loss=5.12]\n",
      "Evaluation:  99%|█████████▉| 4284/4333 [07:08<00:04, 10.00it/s]\n",
      "Train:   0%|          | 0/15980 [00:00<?, ?it/s, accuracy=0.156, train_loss=5.05] "
     ]
    },
    {
     "name": "stdout",
     "output_type": "stream",
     "text": [
      "\t - Recall@20 epoch 8: 0.333093\n",
      "\t - MRR@20    epoch 8: 0.100387\n",
      "\n"
     ]
    },
    {
     "name": "stderr",
     "output_type": "stream",
     "text": [
      "Train: 100%|█████████▉| 15902/15980 [01:41<00:00, 156.87it/s, accuracy=0.0625, train_loss=5]   \n",
      "Evaluation:  99%|█████████▉| 4284/4333 [07:08<00:04, 10.00it/s]\n",
      "Train:   0%|          | 0/15980 [00:00<?, ?it/s, accuracy=0.0938, train_loss=5.08]"
     ]
    },
    {
     "name": "stdout",
     "output_type": "stream",
     "text": [
      "\t - Recall@20 epoch 9: 0.332815\n",
      "\t - MRR@20    epoch 9: 0.100375\n",
      "\n"
     ]
    },
    {
     "name": "stderr",
     "output_type": "stream",
     "text": [
      "Train: 100%|█████████▉| 15902/15980 [01:41<00:00, 157.41it/s, accuracy=0.0625, train_loss=4.99]\n",
      "Evaluation:  99%|█████████▉| 4284/4333 [07:08<00:04, 10.00it/s]\n",
      "Train:   0%|          | 0/15980 [00:00<?, ?it/s, accuracy=0.0938, train_loss=5.14]"
     ]
    },
    {
     "name": "stdout",
     "output_type": "stream",
     "text": [
      "\t - Recall@20 epoch 10: 0.331415\n",
      "\t - MRR@20    epoch 10: 0.100687\n",
      "\n"
     ]
    },
    {
     "name": "stderr",
     "output_type": "stream",
     "text": [
      "Train: 100%|█████████▉| 15902/15980 [01:41<00:00, 157.28it/s, accuracy=0.0625, train_loss=4.97]\n",
      "Evaluation:  99%|█████████▉| 4284/4333 [07:07<00:04, 10.02it/s]\n",
      "Train:   0%|          | 0/15980 [00:00<?, ?it/s, accuracy=0.0625, train_loss=5.23]"
     ]
    },
    {
     "name": "stdout",
     "output_type": "stream",
     "text": [
      "\t - Recall@20 epoch 11: 0.331028\n",
      "\t - MRR@20    epoch 11: 0.101160\n",
      "\n"
     ]
    },
    {
     "name": "stderr",
     "output_type": "stream",
     "text": [
      "Train: 100%|█████████▉| 15902/15980 [01:40<00:00, 157.84it/s, accuracy=0.0312, train_loss=5.09]\n",
      "Evaluation:  99%|█████████▉| 4284/4333 [07:16<00:04,  9.81it/s]\n",
      "Train:   0%|          | 0/15980 [00:00<?, ?it/s, accuracy=0, train_loss=5.83]     "
     ]
    },
    {
     "name": "stdout",
     "output_type": "stream",
     "text": [
      "\t - Recall@20 epoch 12: 0.330452\n",
      "\t - MRR@20    epoch 12: 0.100852\n",
      "\n"
     ]
    },
    {
     "name": "stderr",
     "output_type": "stream",
     "text": [
      "Train: 100%|█████████▉| 15902/15980 [01:50<00:00, 144.13it/s, accuracy=0.125, train_loss=4.99] \n",
      "Evaluation:  99%|█████████▉| 4284/4333 [07:16<00:04,  9.82it/s]\n",
      "Train:   0%|          | 0/15980 [00:00<?, ?it/s, accuracy=0.0312, train_loss=5.35]"
     ]
    },
    {
     "name": "stdout",
     "output_type": "stream",
     "text": [
      "\t - Recall@20 epoch 13: 0.329540\n",
      "\t - MRR@20    epoch 13: 0.100644\n",
      "\n"
     ]
    },
    {
     "name": "stderr",
     "output_type": "stream",
     "text": [
      "Train: 100%|█████████▉| 15902/15980 [01:49<00:00, 145.28it/s, accuracy=0.0312, train_loss=4.98]\n",
      "Evaluation:  99%|█████████▉| 4284/4333 [07:17<00:05,  9.79it/s]\n",
      "Train:   0%|          | 0/15980 [00:00<?, ?it/s, accuracy=0.0312, train_loss=5.87]"
     ]
    },
    {
     "name": "stdout",
     "output_type": "stream",
     "text": [
      "\t - Recall@20 epoch 14: 0.329219\n",
      "\t - MRR@20    epoch 14: 0.100391\n",
      "\n"
     ]
    },
    {
     "name": "stderr",
     "output_type": "stream",
     "text": [
      "Train: 100%|█████████▉| 15902/15980 [01:46<00:00, 148.73it/s, accuracy=0.0938, train_loss=4.82]\n",
      "Evaluation:  99%|█████████▉| 4284/4333 [07:08<00:04, 10.01it/s]"
     ]
    },
    {
     "name": "stdout",
     "output_type": "stream",
     "text": [
      "\t - Recall@20 epoch 15: 0.327862\n",
      "\t - MRR@20    epoch 15: 0.100098\n",
      "\n"
     ]
    },
    {
     "name": "stderr",
     "output_type": "stream",
     "text": [
      "\n"
     ]
    }
   ],
   "source": [
    "# 학습 시간이 다소 오래 소요됩니다.\n",
    "train_model(model, args)"
   ]
  },
  {
   "cell_type": "code",
   "execution_count": 110,
   "metadata": {},
   "outputs": [
    {
     "name": "stderr",
     "output_type": "stream",
     "text": [
      "Evaluation:  99%|█████████▉| 5049/5089 [08:46<00:04,  9.58it/s]"
     ]
    },
    {
     "name": "stdout",
     "output_type": "stream",
     "text": [
      "\t - Recall@20: 0.252810\n",
      "\t - MRR@20: 0.072666\n",
      "\n"
     ]
    },
    {
     "name": "stderr",
     "output_type": "stream",
     "text": [
      "\n"
     ]
    }
   ],
   "source": [
    "def test_model(model, args, test):\n",
    "    test_recall, test_mrr = get_metrics(test, model, args, 20)\n",
    "    print(f\"\\t - Recall@{args.k}: {test_recall:3f}\")\n",
    "    print(f\"\\t - MRR@{args.k}: {test_mrr:3f}\\n\")\n",
    "\n",
    "test_model(model, args, test)"
   ]
  },
  {
   "cell_type": "markdown",
   "metadata": {},
   "source": [
    "- epoch 15번만에 MRR과 Recall이 상승하다가 약간 떨어지는 구간을 만났다. batch size를 작게 주었기 때문에 local minimum에 있을 수 있다."
   ]
  },
  {
   "cell_type": "markdown",
   "metadata": {},
   "source": [
    "### 모델 수정 2nd\n",
    "- batch_size : 64, drop_rate = 0.15, epochs = 25"
   ]
  },
  {
   "cell_type": "code",
   "execution_count": 117,
   "metadata": {},
   "outputs": [
    {
     "name": "stdout",
     "output_type": "stream",
     "text": [
      "Model: \"model_3\"\n",
      "_________________________________________________________________\n",
      "Layer (type)                 Output Shape              Param #   \n",
      "=================================================================\n",
      "input_4 (InputLayer)         [(64, 1, 3515)]           0         \n",
      "_________________________________________________________________\n",
      "GRU (GRU)                    [(64, 50), (64, 50)]      535050    \n",
      "_________________________________________________________________\n",
      "dropout_3 (Dropout)          (64, 50)                  0         \n",
      "_________________________________________________________________\n",
      "dense_3 (Dense)              (64, 3515)                179265    \n",
      "=================================================================\n",
      "Total params: 714,315\n",
      "Trainable params: 714,315\n",
      "Non-trainable params: 0\n",
      "_________________________________________________________________\n"
     ]
    }
   ],
   "source": [
    "args = Args(train, valid, test, batch_size=64, hsz=50, drop_rate=0.15, lr=0.001, epochs=25, k=20)\n",
    "model = create_model(args)"
   ]
  },
  {
   "cell_type": "code",
   "execution_count": 118,
   "metadata": {},
   "outputs": [
    {
     "name": "stderr",
     "output_type": "stream",
     "text": [
      "Train:  99%|█████████▉| 7906/7990 [01:05<00:00, 121.02it/s, accuracy=0.0469, train_loss=6.14]\n",
      "Evaluation:  97%|█████████▋| 2098/2166 [07:12<00:14,  4.85it/s]\n",
      "Train:   0%|          | 0/7990 [00:00<?, ?it/s, accuracy=0, train_loss=6.47]     "
     ]
    },
    {
     "name": "stdout",
     "output_type": "stream",
     "text": [
      "\t - Recall@20 epoch 1: 0.211891\n",
      "\t - MRR@20    epoch 1: 0.052145\n",
      "\n"
     ]
    },
    {
     "name": "stderr",
     "output_type": "stream",
     "text": [
      "Train:  99%|█████████▉| 7906/7990 [01:01<00:00, 128.72it/s, accuracy=0.0781, train_loss=5.64]\n",
      "Evaluation:  97%|█████████▋| 2098/2166 [06:57<00:13,  5.02it/s]\n",
      "Train:   0%|          | 0/7990 [00:00<?, ?it/s, accuracy=0.0312, train_loss=5.85]"
     ]
    },
    {
     "name": "stdout",
     "output_type": "stream",
     "text": [
      "\t - Recall@20 epoch 2: 0.283112\n",
      "\t - MRR@20    epoch 2: 0.076164\n",
      "\n"
     ]
    },
    {
     "name": "stderr",
     "output_type": "stream",
     "text": [
      "Train:  99%|█████████▉| 7906/7990 [01:02<00:00, 126.43it/s, accuracy=0.125, train_loss=5.49] \n",
      "Evaluation:  97%|█████████▋| 2098/2166 [06:49<00:13,  5.12it/s]\n",
      "Train:   0%|          | 0/7990 [00:00<?, ?it/s, accuracy=0.0781, train_loss=5.75]"
     ]
    },
    {
     "name": "stdout",
     "output_type": "stream",
     "text": [
      "\t - Recall@20 epoch 3: 0.310601\n",
      "\t - MRR@20    epoch 3: 0.087589\n",
      "\n"
     ]
    },
    {
     "name": "stderr",
     "output_type": "stream",
     "text": [
      "Train:  99%|█████████▉| 7906/7990 [01:01<00:00, 127.81it/s, accuracy=0.125, train_loss=5.28] \n",
      "Evaluation:  97%|█████████▋| 2098/2166 [06:43<00:13,  5.20it/s]\n",
      "Train:   0%|          | 0/7990 [00:00<?, ?it/s, accuracy=0.0312, train_loss=5.61]"
     ]
    },
    {
     "name": "stdout",
     "output_type": "stream",
     "text": [
      "\t - Recall@20 epoch 4: 0.327172\n",
      "\t - MRR@20    epoch 4: 0.094998\n",
      "\n"
     ]
    },
    {
     "name": "stderr",
     "output_type": "stream",
     "text": [
      "Train:  99%|█████████▉| 7906/7990 [01:02<00:00, 127.18it/s, accuracy=0.109, train_loss=5.27] \n",
      "Evaluation:  97%|█████████▋| 2098/2166 [06:41<00:13,  5.23it/s]\n",
      "Train:   0%|          | 0/7990 [00:00<?, ?it/s, accuracy=0.0781, train_loss=5.57]"
     ]
    },
    {
     "name": "stdout",
     "output_type": "stream",
     "text": [
      "\t - Recall@20 epoch 5: 0.335200\n",
      "\t - MRR@20    epoch 5: 0.098734\n",
      "\n"
     ]
    },
    {
     "name": "stderr",
     "output_type": "stream",
     "text": [
      "Train:  99%|█████████▉| 7906/7990 [01:02<00:00, 127.03it/s, accuracy=0.0938, train_loss=5.23]\n",
      "Evaluation:  97%|█████████▋| 2098/2166 [06:39<00:12,  5.25it/s]\n",
      "Train:   0%|          | 0/7990 [00:00<?, ?it/s, accuracy=0.0625, train_loss=5.51]"
     ]
    },
    {
     "name": "stdout",
     "output_type": "stream",
     "text": [
      "\t - Recall@20 epoch 6: 0.339974\n",
      "\t - MRR@20    epoch 6: 0.101754\n",
      "\n"
     ]
    },
    {
     "name": "stderr",
     "output_type": "stream",
     "text": [
      "Train:  99%|█████████▉| 7906/7990 [01:03<00:00, 125.14it/s, accuracy=0.141, train_loss=5.23] \n",
      "Evaluation:  97%|█████████▋| 2098/2166 [06:39<00:12,  5.26it/s]\n",
      "Train:   0%|          | 0/7990 [00:00<?, ?it/s, accuracy=0.0625, train_loss=5.6] "
     ]
    },
    {
     "name": "stdout",
     "output_type": "stream",
     "text": [
      "\t - Recall@20 epoch 7: 0.342469\n",
      "\t - MRR@20    epoch 7: 0.103390\n",
      "\n"
     ]
    },
    {
     "name": "stderr",
     "output_type": "stream",
     "text": [
      "Train:  99%|█████████▉| 7906/7990 [01:01<00:00, 128.72it/s, accuracy=0.109, train_loss=5.34] \n",
      "Evaluation:  97%|█████████▋| 2098/2166 [06:38<00:12,  5.27it/s]\n",
      "Train:   0%|          | 0/7990 [00:00<?, ?it/s, accuracy=0.0312, train_loss=5.57]"
     ]
    },
    {
     "name": "stdout",
     "output_type": "stream",
     "text": [
      "\t - Recall@20 epoch 8: 0.343616\n",
      "\t - MRR@20    epoch 8: 0.104357\n",
      "\n"
     ]
    },
    {
     "name": "stderr",
     "output_type": "stream",
     "text": [
      "Train:  99%|█████████▉| 7906/7990 [01:02<00:00, 127.32it/s, accuracy=0.0938, train_loss=5.23]\n",
      "Evaluation:  97%|█████████▋| 2098/2166 [06:38<00:12,  5.26it/s]\n",
      "Train:   0%|          | 0/7990 [00:00<?, ?it/s, accuracy=0.0938, train_loss=5.58]"
     ]
    },
    {
     "name": "stdout",
     "output_type": "stream",
     "text": [
      "\t - Recall@20 epoch 9: 0.344405\n",
      "\t - MRR@20    epoch 9: 0.105000\n",
      "\n"
     ]
    },
    {
     "name": "stderr",
     "output_type": "stream",
     "text": [
      "Train:  99%|█████████▉| 7906/7990 [01:01<00:00, 128.28it/s, accuracy=0.0469, train_loss=5.31]\n",
      "Evaluation:  97%|█████████▋| 2098/2166 [06:41<00:13,  5.23it/s]\n",
      "Train:   0%|          | 0/7990 [00:00<?, ?it/s, accuracy=0.0469, train_loss=5.25]"
     ]
    },
    {
     "name": "stdout",
     "output_type": "stream",
     "text": [
      "\t - Recall@20 epoch 10: 0.344785\n",
      "\t - MRR@20    epoch 10: 0.105273\n",
      "\n"
     ]
    },
    {
     "name": "stderr",
     "output_type": "stream",
     "text": [
      "Train:  99%|█████████▉| 7906/7990 [01:03<00:00, 123.74it/s, accuracy=0.0781, train_loss=5.25]\n",
      "Evaluation:  97%|█████████▋| 2098/2166 [06:40<00:12,  5.24it/s]\n",
      "Train:   0%|          | 0/7990 [00:00<?, ?it/s, accuracy=0.0625, train_loss=5.47]"
     ]
    },
    {
     "name": "stdout",
     "output_type": "stream",
     "text": [
      "\t - Recall@20 epoch 11: 0.345329\n",
      "\t - MRR@20    epoch 11: 0.105839\n",
      "\n"
     ]
    },
    {
     "name": "stderr",
     "output_type": "stream",
     "text": [
      "Train:  99%|█████████▉| 7906/7990 [01:03<00:00, 124.67it/s, accuracy=0.109, train_loss=5.2]  \n",
      "Evaluation:  97%|█████████▋| 2098/2166 [06:39<00:12,  5.25it/s]\n",
      "Train:   0%|          | 0/7990 [00:00<?, ?it/s, accuracy=0.125, train_loss=5]    "
     ]
    },
    {
     "name": "stdout",
     "output_type": "stream",
     "text": [
      "\t - Recall@20 epoch 12: 0.345657\n",
      "\t - MRR@20    epoch 12: 0.105925\n",
      "\n"
     ]
    },
    {
     "name": "stderr",
     "output_type": "stream",
     "text": [
      "Train:  99%|█████████▉| 7906/7990 [01:04<00:00, 123.40it/s, accuracy=0.0781, train_loss=5.11]\n",
      "Evaluation:  97%|█████████▋| 2098/2166 [06:47<00:13,  5.15it/s]\n",
      "Train:   0%|          | 0/7990 [00:00<?, ?it/s, accuracy=0.0469, train_loss=5.27]"
     ]
    },
    {
     "name": "stdout",
     "output_type": "stream",
     "text": [
      "\t - Recall@20 epoch 13: 0.345649\n",
      "\t - MRR@20    epoch 13: 0.105969\n",
      "\n"
     ]
    },
    {
     "name": "stderr",
     "output_type": "stream",
     "text": [
      "Train:  99%|█████████▉| 7906/7990 [01:07<00:00, 117.59it/s, accuracy=0.0938, train_loss=5.17]\n",
      "Evaluation:  97%|█████████▋| 2098/2166 [06:49<00:13,  5.12it/s]\n",
      "Train:   0%|          | 0/7990 [00:00<?, ?it/s, accuracy=0.0469, train_loss=4.98]"
     ]
    },
    {
     "name": "stdout",
     "output_type": "stream",
     "text": [
      "\t - Recall@20 epoch 14: 0.344741\n",
      "\t - MRR@20    epoch 14: 0.105757\n",
      "\n"
     ]
    },
    {
     "name": "stderr",
     "output_type": "stream",
     "text": [
      "Train:  99%|█████████▉| 7906/7990 [01:03<00:00, 124.94it/s, accuracy=0.125, train_loss=5.07] \n",
      "Evaluation:  97%|█████████▋| 2098/2166 [06:45<00:13,  5.18it/s]\n",
      "Train:   0%|          | 0/7990 [00:00<?, ?it/s, accuracy=0.141, train_loss=4.94] "
     ]
    },
    {
     "name": "stdout",
     "output_type": "stream",
     "text": [
      "\t - Recall@20 epoch 15: 0.345739\n",
      "\t - MRR@20    epoch 15: 0.105962\n",
      "\n"
     ]
    },
    {
     "name": "stderr",
     "output_type": "stream",
     "text": [
      "Train:  99%|█████████▉| 7906/7990 [01:07<00:00, 117.38it/s, accuracy=0.0625, train_loss=5.3] \n",
      "Evaluation:  97%|█████████▋| 2098/2166 [06:43<00:13,  5.20it/s]\n",
      "Train:   0%|          | 0/7990 [00:00<?, ?it/s, accuracy=0, train_loss=5.22]     "
     ]
    },
    {
     "name": "stdout",
     "output_type": "stream",
     "text": [
      "\t - Recall@20 epoch 16: 0.345426\n",
      "\t - MRR@20    epoch 16: 0.106474\n",
      "\n"
     ]
    },
    {
     "name": "stderr",
     "output_type": "stream",
     "text": [
      "Train:  99%|█████████▉| 7906/7990 [01:05<00:00, 120.90it/s, accuracy=0.0625, train_loss=5.35]\n",
      "Evaluation:  97%|█████████▋| 2098/2166 [06:45<00:13,  5.17it/s]\n",
      "Train:   0%|          | 0/7990 [00:00<?, ?it/s, accuracy=0.0625, train_loss=5.34]"
     ]
    },
    {
     "name": "stdout",
     "output_type": "stream",
     "text": [
      "\t - Recall@20 epoch 17: 0.343772\n",
      "\t - MRR@20    epoch 17: 0.106386\n",
      "\n"
     ]
    },
    {
     "name": "stderr",
     "output_type": "stream",
     "text": [
      "Train:  99%|█████████▉| 7906/7990 [01:06<00:00, 118.44it/s, accuracy=0.141, train_loss=5.16] \n",
      "Evaluation:  97%|█████████▋| 2098/2166 [06:53<00:13,  5.07it/s]\n",
      "Train:   0%|          | 0/7990 [00:00<?, ?it/s, accuracy=0.156, train_loss=4.93] "
     ]
    },
    {
     "name": "stdout",
     "output_type": "stream",
     "text": [
      "\t - Recall@20 epoch 18: 0.343735\n",
      "\t - MRR@20    epoch 18: 0.106218\n",
      "\n"
     ]
    },
    {
     "name": "stderr",
     "output_type": "stream",
     "text": [
      "Train:  99%|█████████▉| 7906/7990 [01:07<00:00, 116.29it/s, accuracy=0.0938, train_loss=5.28]\n",
      "Evaluation:  97%|█████████▋| 2098/2166 [07:00<00:13,  4.99it/s]\n",
      "Train:   0%|          | 0/7990 [00:00<?, ?it/s, accuracy=0.0625, train_loss=5.12]"
     ]
    },
    {
     "name": "stdout",
     "output_type": "stream",
     "text": [
      "\t - Recall@20 epoch 19: 0.343802\n",
      "\t - MRR@20    epoch 19: 0.106499\n",
      "\n"
     ]
    },
    {
     "name": "stderr",
     "output_type": "stream",
     "text": [
      "Train:  99%|█████████▉| 7906/7990 [01:07<00:00, 116.39it/s, accuracy=0.125, train_loss=5.26] \n",
      "Evaluation:  97%|█████████▋| 2098/2166 [07:00<00:13,  4.98it/s]\n",
      "Train:   0%|          | 0/7990 [00:00<?, ?it/s, accuracy=0.141, train_loss=5.13] "
     ]
    },
    {
     "name": "stdout",
     "output_type": "stream",
     "text": [
      "\t - Recall@20 epoch 20: 0.343177\n",
      "\t - MRR@20    epoch 20: 0.106009\n",
      "\n"
     ]
    },
    {
     "name": "stderr",
     "output_type": "stream",
     "text": [
      "Train:  99%|█████████▉| 7906/7990 [01:10<00:00, 112.64it/s, accuracy=0.125, train_loss=5.16] \n",
      "Evaluation:  97%|█████████▋| 2098/2166 [07:06<00:13,  4.92it/s]\n",
      "Train:   0%|          | 0/7990 [00:00<?, ?it/s, accuracy=0.109, train_loss=5.01] "
     ]
    },
    {
     "name": "stdout",
     "output_type": "stream",
     "text": [
      "\t - Recall@20 epoch 21: 0.342059\n",
      "\t - MRR@20    epoch 21: 0.106013\n",
      "\n"
     ]
    },
    {
     "name": "stderr",
     "output_type": "stream",
     "text": [
      "Train:  99%|█████████▉| 7906/7990 [01:07<00:00, 116.99it/s, accuracy=0.0938, train_loss=5.19]\n",
      "Evaluation:  97%|█████████▋| 2098/2166 [07:07<00:13,  4.91it/s]\n",
      "Train:   0%|          | 0/7990 [00:00<?, ?it/s, accuracy=0.0938, train_loss=4.88]"
     ]
    },
    {
     "name": "stdout",
     "output_type": "stream",
     "text": [
      "\t - Recall@20 epoch 22: 0.343244\n",
      "\t - MRR@20    epoch 22: 0.106335\n",
      "\n"
     ]
    },
    {
     "name": "stderr",
     "output_type": "stream",
     "text": [
      "Train:  99%|█████████▉| 7906/7990 [01:10<00:00, 111.77it/s, accuracy=0.0469, train_loss=5.24]\n",
      "Evaluation:  97%|█████████▋| 2098/2166 [07:03<00:13,  4.96it/s]\n",
      "Train:   0%|          | 0/7990 [00:00<?, ?it/s, accuracy=0.0781, train_loss=4.91]"
     ]
    },
    {
     "name": "stdout",
     "output_type": "stream",
     "text": [
      "\t - Recall@20 epoch 23: 0.342193\n",
      "\t - MRR@20    epoch 23: 0.106271\n",
      "\n"
     ]
    },
    {
     "name": "stderr",
     "output_type": "stream",
     "text": [
      "Train:  99%|█████████▉| 7906/7990 [01:07<00:00, 116.99it/s, accuracy=0.109, train_loss=5.21] \n",
      "Evaluation:  97%|█████████▋| 2098/2166 [07:03<00:13,  4.95it/s]\n",
      "Train:   0%|          | 0/7990 [00:00<?, ?it/s, accuracy=0.109, train_loss=4.92] "
     ]
    },
    {
     "name": "stdout",
     "output_type": "stream",
     "text": [
      "\t - Recall@20 epoch 24: 0.341702\n",
      "\t - MRR@20    epoch 24: 0.105733\n",
      "\n"
     ]
    },
    {
     "name": "stderr",
     "output_type": "stream",
     "text": [
      "Train:  99%|█████████▉| 7906/7990 [01:07<00:00, 116.33it/s, accuracy=0.141, train_loss=5.04] \n",
      "Evaluation:  97%|█████████▋| 2098/2166 [07:07<00:13,  4.90it/s]"
     ]
    },
    {
     "name": "stdout",
     "output_type": "stream",
     "text": [
      "\t - Recall@20 epoch 25: 0.341493\n",
      "\t - MRR@20    epoch 25: 0.105877\n",
      "\n"
     ]
    },
    {
     "name": "stderr",
     "output_type": "stream",
     "text": [
      "\n"
     ]
    }
   ],
   "source": [
    "train_model(model, args)"
   ]
  },
  {
   "cell_type": "code",
   "execution_count": 119,
   "metadata": {},
   "outputs": [
    {
     "name": "stderr",
     "output_type": "stream",
     "text": [
      "Evaluation:  99%|█████████▊| 2508/2544 [09:02<00:07,  4.62it/s]"
     ]
    },
    {
     "name": "stdout",
     "output_type": "stream",
     "text": [
      "\t - Recall@20: 0.258031\n",
      "\t - MRR@20: 0.074548\n",
      "\n"
     ]
    },
    {
     "name": "stderr",
     "output_type": "stream",
     "text": [
      "\n"
     ]
    }
   ],
   "source": [
    "test_model(model, args, test)"
   ]
  },
  {
   "cell_type": "markdown",
   "metadata": {},
   "source": [
    "- batch를 조금 늘리고 대신, epoch를 늘려서 학습시켜보았다.(+ Dropout 층의 rate 역시 약간 조절해봄.) 여전히 15번째 epoch쯤 최대치를 뽑아내는 것 같다. (batch사이즈를 더 늘려보고 global optimum을 찾아내는지 확인해보자!)"
   ]
  },
  {
   "cell_type": "markdown",
   "metadata": {},
   "source": [
    "### 모델 수정 3rd\n",
    "- batch_size : 128, drop_rate = 0.1, epochs = 20"
   ]
  },
  {
   "cell_type": "code",
   "execution_count": 114,
   "metadata": {},
   "outputs": [
    {
     "name": "stdout",
     "output_type": "stream",
     "text": [
      "Model: \"model_2\"\n",
      "_________________________________________________________________\n",
      "Layer (type)                 Output Shape              Param #   \n",
      "=================================================================\n",
      "input_3 (InputLayer)         [(128, 1, 3515)]          0         \n",
      "_________________________________________________________________\n",
      "GRU (GRU)                    [(128, 50), (128, 50)]    535050    \n",
      "_________________________________________________________________\n",
      "dropout_2 (Dropout)          (128, 50)                 0         \n",
      "_________________________________________________________________\n",
      "dense_2 (Dense)              (128, 3515)               179265    \n",
      "=================================================================\n",
      "Total params: 714,315\n",
      "Trainable params: 714,315\n",
      "Non-trainable params: 0\n",
      "_________________________________________________________________\n"
     ]
    }
   ],
   "source": [
    "args = Args(train, valid, test, batch_size=128, hsz=50, drop_rate=0.1, lr=0.001, epochs=20, k=20)\n",
    "model = create_model(args)"
   ]
  },
  {
   "cell_type": "code",
   "execution_count": 115,
   "metadata": {},
   "outputs": [
    {
     "name": "stderr",
     "output_type": "stream",
     "text": [
      "Train:  98%|█████████▊| 3910/3995 [00:37<00:00, 104.11it/s, accuracy=0.00781, train_loss=6.44]\n",
      "Evaluation:  93%|█████████▎| 1007/1083 [06:39<00:30,  2.52it/s]\n",
      "Train:   0%|          | 0/3995 [00:00<?, ?it/s, accuracy=0.0234, train_loss=6.34] "
     ]
    },
    {
     "name": "stdout",
     "output_type": "stream",
     "text": [
      "\t - Recall@20 epoch 1: 0.154365\n",
      "\t - MRR@20    epoch 1: 0.036234\n",
      "\n"
     ]
    },
    {
     "name": "stderr",
     "output_type": "stream",
     "text": [
      "Train:  98%|█████████▊| 3910/3995 [00:35<00:00, 110.59it/s, accuracy=0.0391, train_loss=5.91] \n",
      "Evaluation:  93%|█████████▎| 1007/1083 [06:25<00:29,  2.62it/s]\n",
      "Train:   0%|          | 0/3995 [00:00<?, ?it/s, accuracy=0.0547, train_loss=5.89] "
     ]
    },
    {
     "name": "stdout",
     "output_type": "stream",
     "text": [
      "\t - Recall@20 epoch 2: 0.259085\n",
      "\t - MRR@20    epoch 2: 0.067449\n",
      "\n"
     ]
    },
    {
     "name": "stderr",
     "output_type": "stream",
     "text": [
      "Train:  98%|█████████▊| 3910/3995 [00:36<00:00, 107.04it/s, accuracy=0.0234, train_loss=5.76] \n",
      "Evaluation:  93%|█████████▎| 1007/1083 [06:21<00:28,  2.64it/s]\n",
      "Train:   0%|          | 0/3995 [00:00<?, ?it/s, accuracy=0.0625, train_loss=5.32] "
     ]
    },
    {
     "name": "stdout",
     "output_type": "stream",
     "text": [
      "\t - Recall@20 epoch 3: 0.296084\n",
      "\t - MRR@20    epoch 3: 0.081062\n",
      "\n"
     ]
    },
    {
     "name": "stderr",
     "output_type": "stream",
     "text": [
      "Train:  98%|█████████▊| 3910/3995 [00:36<00:00, 107.44it/s, accuracy=0.0312, train_loss=5.7]  \n",
      "Evaluation:  93%|█████████▎| 1007/1083 [06:16<00:28,  2.67it/s]\n",
      "Train:   0%|          | 0/3995 [00:00<?, ?it/s, accuracy=0.0703, train_loss=5.18] "
     ]
    },
    {
     "name": "stdout",
     "output_type": "stream",
     "text": [
      "\t - Recall@20 epoch 4: 0.316720\n",
      "\t - MRR@20    epoch 4: 0.089578\n",
      "\n"
     ]
    },
    {
     "name": "stderr",
     "output_type": "stream",
     "text": [
      "Train:  98%|█████████▊| 3910/3995 [00:36<00:00, 106.20it/s, accuracy=0.0234, train_loss=5.64] \n",
      "Evaluation:  93%|█████████▎| 1007/1083 [06:15<00:28,  2.69it/s]\n",
      "Train:   0%|          | 0/3995 [00:00<?, ?it/s, accuracy=0.0781, train_loss=5.2]  "
     ]
    },
    {
     "name": "stdout",
     "output_type": "stream",
     "text": [
      "\t - Recall@20 epoch 5: 0.330072\n",
      "\t - MRR@20    epoch 5: 0.095929\n",
      "\n"
     ]
    },
    {
     "name": "stderr",
     "output_type": "stream",
     "text": [
      "Train:  98%|█████████▊| 3910/3995 [00:36<00:00, 106.39it/s, accuracy=0.0469, train_loss=5.58] \n",
      "Evaluation:  93%|█████████▎| 1007/1083 [06:11<00:28,  2.71it/s]\n",
      "Train:   0%|          | 0/3995 [00:00<?, ?it/s, accuracy=0.0938, train_loss=4.96]"
     ]
    },
    {
     "name": "stdout",
     "output_type": "stream",
     "text": [
      "\t - Recall@20 epoch 6: 0.338459\n",
      "\t - MRR@20    epoch 6: 0.099933\n",
      "\n"
     ]
    },
    {
     "name": "stderr",
     "output_type": "stream",
     "text": [
      "Train:  98%|█████████▊| 3910/3995 [00:35<00:00, 109.92it/s, accuracy=0.0234, train_loss=5.56] \n",
      "Evaluation:  93%|█████████▎| 1007/1083 [06:08<00:27,  2.73it/s]\n",
      "Train:   0%|          | 0/3995 [00:00<?, ?it/s, accuracy=0.0703, train_loss=5.1]  "
     ]
    },
    {
     "name": "stdout",
     "output_type": "stream",
     "text": [
      "\t - Recall@20 epoch 7: 0.343758\n",
      "\t - MRR@20    epoch 7: 0.102970\n",
      "\n"
     ]
    },
    {
     "name": "stderr",
     "output_type": "stream",
     "text": [
      "Train:  98%|█████████▊| 3910/3995 [00:35<00:00, 109.77it/s, accuracy=0.0391, train_loss=5.47] \n",
      "Evaluation:  93%|█████████▎| 1007/1083 [06:06<00:27,  2.75it/s]\n",
      "Train:   0%|          | 0/3995 [00:00<?, ?it/s, accuracy=0.0859, train_loss=5.06] "
     ]
    },
    {
     "name": "stdout",
     "output_type": "stream",
     "text": [
      "\t - Recall@20 epoch 8: 0.347102\n",
      "\t - MRR@20    epoch 8: 0.104670\n",
      "\n"
     ]
    },
    {
     "name": "stderr",
     "output_type": "stream",
     "text": [
      "Train:  98%|█████████▊| 3910/3995 [00:37<00:00, 105.02it/s, accuracy=0.0547, train_loss=5.46] \n",
      "Evaluation:  93%|█████████▎| 1007/1083 [06:08<00:27,  2.73it/s]\n",
      "Train:   0%|          | 0/3995 [00:00<?, ?it/s, accuracy=0.0859, train_loss=5.03]"
     ]
    },
    {
     "name": "stdout",
     "output_type": "stream",
     "text": [
      "\t - Recall@20 epoch 9: 0.348087\n",
      "\t - MRR@20    epoch 9: 0.105739\n",
      "\n"
     ]
    },
    {
     "name": "stderr",
     "output_type": "stream",
     "text": [
      "Train:  98%|█████████▊| 3910/3995 [00:36<00:00, 106.50it/s, accuracy=0.0312, train_loss=5.53] \n",
      "Evaluation:  93%|█████████▎| 1007/1083 [06:08<00:27,  2.73it/s]\n",
      "Train:   0%|          | 0/3995 [00:00<?, ?it/s, accuracy=0.0781, train_loss=5.02]"
     ]
    },
    {
     "name": "stdout",
     "output_type": "stream",
     "text": [
      "\t - Recall@20 epoch 10: 0.349840\n",
      "\t - MRR@20    epoch 10: 0.106982\n",
      "\n"
     ]
    },
    {
     "name": "stderr",
     "output_type": "stream",
     "text": [
      "Train:  98%|█████████▊| 3910/3995 [00:36<00:00, 106.25it/s, accuracy=0.0547, train_loss=5.46] \n",
      "Evaluation:  93%|█████████▎| 1007/1083 [06:02<00:27,  2.78it/s]\n",
      "Train:   0%|          | 0/3995 [00:00<?, ?it/s, accuracy=0.109, train_loss=4.97]  "
     ]
    },
    {
     "name": "stdout",
     "output_type": "stream",
     "text": [
      "\t - Recall@20 epoch 11: 0.350787\n",
      "\t - MRR@20    epoch 11: 0.107549\n",
      "\n"
     ]
    },
    {
     "name": "stderr",
     "output_type": "stream",
     "text": [
      "Train:  98%|█████████▊| 3910/3995 [00:37<00:00, 105.32it/s, accuracy=0.0625, train_loss=5.49] \n",
      "Evaluation:  93%|█████████▎| 1007/1083 [06:03<00:27,  2.77it/s]\n",
      "Train:   0%|          | 0/3995 [00:00<?, ?it/s, accuracy=0.0859, train_loss=4.92]"
     ]
    },
    {
     "name": "stdout",
     "output_type": "stream",
     "text": [
      "\t - Recall@20 epoch 12: 0.351151\n",
      "\t - MRR@20    epoch 12: 0.108087\n",
      "\n"
     ]
    },
    {
     "name": "stderr",
     "output_type": "stream",
     "text": [
      "Train:  98%|█████████▊| 3910/3995 [00:35<00:00, 109.18it/s, accuracy=0.0625, train_loss=5.44] \n",
      "Evaluation:  93%|█████████▎| 1007/1083 [06:06<00:27,  2.75it/s]\n",
      "Train:   0%|          | 0/3995 [00:00<?, ?it/s, accuracy=0.0938, train_loss=4.63] "
     ]
    },
    {
     "name": "stdout",
     "output_type": "stream",
     "text": [
      "\t - Recall@20 epoch 13: 0.350794\n",
      "\t - MRR@20    epoch 13: 0.108114\n",
      "\n"
     ]
    },
    {
     "name": "stderr",
     "output_type": "stream",
     "text": [
      "Train:  98%|█████████▊| 3910/3995 [00:36<00:00, 106.28it/s, accuracy=0.0391, train_loss=5.47] \n",
      "Evaluation:  93%|█████████▎| 1007/1083 [06:05<00:27,  2.75it/s]\n",
      "Train:   0%|          | 0/3995 [00:00<?, ?it/s, accuracy=0.0781, train_loss=4.99] "
     ]
    },
    {
     "name": "stdout",
     "output_type": "stream",
     "text": [
      "\t - Recall@20 epoch 14: 0.349840\n",
      "\t - MRR@20    epoch 14: 0.108486\n",
      "\n"
     ]
    },
    {
     "name": "stderr",
     "output_type": "stream",
     "text": [
      "Train:  98%|█████████▊| 3910/3995 [00:36<00:00, 106.06it/s, accuracy=0.0547, train_loss=5.43] \n",
      "Evaluation:  93%|█████████▎| 1007/1083 [06:05<00:27,  2.75it/s]\n",
      "Train:   0%|          | 0/3995 [00:00<?, ?it/s, accuracy=0.0781, train_loss=4.95]"
     ]
    },
    {
     "name": "stdout",
     "output_type": "stream",
     "text": [
      "\t - Recall@20 epoch 15: 0.350251\n",
      "\t - MRR@20    epoch 15: 0.108726\n",
      "\n"
     ]
    },
    {
     "name": "stderr",
     "output_type": "stream",
     "text": [
      "Train:  98%|█████████▊| 3910/3995 [00:37<00:00, 104.75it/s, accuracy=0.0547, train_loss=5.45] \n",
      "Evaluation:  93%|█████████▎| 1007/1083 [05:55<00:26,  2.83it/s]\n",
      "Train:   0%|          | 0/3995 [00:00<?, ?it/s, accuracy=0.102, train_loss=4.88]  "
     ]
    },
    {
     "name": "stdout",
     "output_type": "stream",
     "text": [
      "\t - Recall@20 epoch 16: 0.350135\n",
      "\t - MRR@20    epoch 16: 0.108736\n",
      "\n"
     ]
    },
    {
     "name": "stderr",
     "output_type": "stream",
     "text": [
      "Train:  98%|█████████▊| 3910/3995 [00:37<00:00, 104.77it/s, accuracy=0.0625, train_loss=5.38] \n",
      "Evaluation:  93%|█████████▎| 1007/1083 [06:09<00:27,  2.73it/s]\n",
      "Train:   0%|          | 0/3995 [00:00<?, ?it/s, accuracy=0.102, train_loss=4.87] "
     ]
    },
    {
     "name": "stdout",
     "output_type": "stream",
     "text": [
      "\t - Recall@20 epoch 17: 0.349468\n",
      "\t - MRR@20    epoch 17: 0.108924\n",
      "\n"
     ]
    },
    {
     "name": "stderr",
     "output_type": "stream",
     "text": [
      "Train:  98%|█████████▊| 3910/3995 [00:37<00:00, 105.32it/s, accuracy=0.0703, train_loss=5.39] \n",
      "Evaluation:  93%|█████████▎| 1007/1083 [05:54<00:26,  2.84it/s]\n",
      "Train:   0%|          | 0/3995 [00:00<?, ?it/s, accuracy=0.0703, train_loss=5.12]"
     ]
    },
    {
     "name": "stdout",
     "output_type": "stream",
     "text": [
      "\t - Recall@20 epoch 18: 0.350050\n",
      "\t - MRR@20    epoch 18: 0.109076\n",
      "\n"
     ]
    },
    {
     "name": "stderr",
     "output_type": "stream",
     "text": [
      "Train:  98%|█████████▊| 3910/3995 [00:35<00:00, 110.07it/s, accuracy=0.0625, train_loss=5.37] \n",
      "Evaluation:  93%|█████████▎| 1007/1083 [05:53<00:26,  2.85it/s]\n",
      "Train:   0%|          | 0/3995 [00:00<?, ?it/s, accuracy=0.0938, train_loss=4.76] "
     ]
    },
    {
     "name": "stdout",
     "output_type": "stream",
     "text": [
      "\t - Recall@20 epoch 19: 0.349150\n",
      "\t - MRR@20    epoch 19: 0.109011\n",
      "\n"
     ]
    },
    {
     "name": "stderr",
     "output_type": "stream",
     "text": [
      "Train:  98%|█████████▊| 3910/3995 [00:35<00:00, 110.85it/s, accuracy=0.0547, train_loss=5.41] \n",
      "Evaluation:  93%|█████████▎| 1007/1083 [05:52<00:26,  2.86it/s]"
     ]
    },
    {
     "name": "stdout",
     "output_type": "stream",
     "text": [
      "\t - Recall@20 epoch 20: 0.349103\n",
      "\t - MRR@20    epoch 20: 0.109018\n",
      "\n"
     ]
    },
    {
     "name": "stderr",
     "output_type": "stream",
     "text": [
      "\n"
     ]
    }
   ],
   "source": [
    "train_model(model, args)"
   ]
  },
  {
   "cell_type": "code",
   "execution_count": 116,
   "metadata": {},
   "outputs": [
    {
     "name": "stderr",
     "output_type": "stream",
     "text": [
      "Evaluation:  97%|█████████▋| 1236/1272 [07:39<00:13,  2.69it/s]"
     ]
    },
    {
     "name": "stdout",
     "output_type": "stream",
     "text": [
      "\t - Recall@20: 0.260998\n",
      "\t - MRR@20: 0.076044\n",
      "\n"
     ]
    },
    {
     "name": "stderr",
     "output_type": "stream",
     "text": [
      "\n"
     ]
    }
   ],
   "source": [
    "test_model(model, args, test)"
   ]
  },
  {
   "cell_type": "markdown",
   "metadata": {},
   "source": [
    "- 끝으로 batch size를 128정도로 주고, drop rate는 0.1로 재조정한 뒤 20정도의 epoch로 학습시켜 보았다. 20 epoch까지 자는 동안 Recall과 MRR이 계속 상승하는 것을 확인하였다.\n",
    "\n",
    "batch_size = 128, drop_rate = 0.1, epoch = 30\n",
    "이정도 하이퍼파라미터로 더 많은 학습을 주게 되면 성능이 아주 조금 더 상승할 것 같기도 하다."
   ]
  },
  {
   "cell_type": "markdown",
   "metadata": {},
   "source": [
    "# 회고"
   ]
  },
  {
   "cell_type": "markdown",
   "metadata": {},
   "source": [
    "## * 이번 프로젝트에서 어려웠던 점.\n",
    "    \n",
    "    노드에서는 세션에 대한 명확한 데이터를 가지고 실습했는데, 막상 프로젝트는 그러한 세션에 대해 명확하게 할 지표가 존재하지 않아서 feature 생성을 어떻게 하는게 좋을지 막막했다. \n",
    "    \n",
    "\n",
    "## * 프로젝트를 진행하면서 알아낸 점 혹은 아직 모호한 점.\n",
    "    \n",
    "    일단 느리다. 그렇다고 또 batch size를 너무 크게 주면, 학습 자체가 되지 않는다. (데이터셋의 비율을 따로 고려해야하기 때문) 그리고 testset의 크기가 클 수록 자연스럽게 모델의 성능이 오른다는 것을 확인하였다. (뭔가 테스트셋이 많으면 그만큼 맞춰야 할 지표가 늘어나는 거니까 성능평가가 좋지 않을거라고 생각했는데, RNN의 경우는 조금 다른건가?!)\n",
    "    \n",
    "\n",
    "## * 루브릭 평가 지표를 맞추기 위해 시도한 것들.\n",
    "    \n",
    "    1) Movielens 데이터셋을 Session based recommendation 관점으로 전처리하는 과정이 체계적으로 진행되었는가? (데이터셋의 면밀한 분석을 토대로 세션단위 정의 과정(길이분석, 시간분석)을 합리적으로 수행한 과정이 기술되었다.)\n",
    "    \n",
    "    Yes.\n",
    "    \n",
    "    2) RNN 기반의 예측 모델이 정상적으로 구성되어 안정적으로 훈련이 진행되었는가? (적절한 epoch 만큼의 학습이 진행되는 과정에서 train loss가 안정적으로 감소하고, validation 단계에서의 Recall, MRR이 개선되는 것이 확인된다.)\n",
    "    \n",
    "    Yes.\n",
    "    \n",
    "    3) 세션정의, 모델구조, 하이퍼파라미터 등을 변경해 실험하여 Recall, MRR 등의 변화 추이를 관찰하였는가? (3가지 이상의 변화를 시도하고, 그 실험 결과를 체계적으로 분석하였다.)\n",
    "    \n",
    "    Yes.\n"
   ]
  }
 ],
 "metadata": {
  "kernelspec": {
   "display_name": "aiffel",
   "language": "python",
   "name": "aiffel"
  },
  "language_info": {
   "codemirror_mode": {
    "name": "ipython",
    "version": 3
   },
   "file_extension": ".py",
   "mimetype": "text/x-python",
   "name": "python",
   "nbconvert_exporter": "python",
   "pygments_lexer": "ipython3",
   "version": "3.7.9"
  }
 },
 "nbformat": 4,
 "nbformat_minor": 4
}
